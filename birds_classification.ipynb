{
  "nbformat": 4,
  "nbformat_minor": 0,
  "metadata": {
    "colab": {
      "name": "birds classification.ipynb",
      "provenance": [],
      "collapsed_sections": []
    },
    "kernelspec": {
      "name": "python3",
      "display_name": "Python 3"
    },
    "language_info": {
      "name": "python"
    },
    "accelerator": "TPU"
  },
  "cells": [
    {
      "cell_type": "code",
      "metadata": {
        "id": "vQZrXxAMnCxp"
      },
      "source": [
        "!unzip dataset50.zip"
      ],
      "execution_count": null,
      "outputs": []
    },
    {
      "cell_type": "code",
      "metadata": {
        "id": "AlXFnn-KTmh_"
      },
      "source": [
        "checkpoint_path = \"training_1/cp.ckpt\"\n",
        "checkpoint_dir = os.path.dirname(checkpoint_path)"
      ],
      "execution_count": 70,
      "outputs": []
    },
    {
      "cell_type": "code",
      "metadata": {
        "id": "gqSSBwzJTyPB"
      },
      "source": [
        "!mkdir -p saved_model"
      ],
      "execution_count": 71,
      "outputs": []
    },
    {
      "cell_type": "code",
      "metadata": {
        "id": "341DEaUReFBR"
      },
      "source": [
        "!pip install tensorflow~=2.3.0 tensorflow_gcs_config~=2.3.0\n",
        "import tensorflow as tf\n",
        "import requests\n",
        "import os\n",
        "resp = requests.post(\"http://{}:8475/requestversion/{}\".format(os.environ[\"COLAB_TPU_ADDR\"].split(\":\")[0], tf.__version__))\n",
        "if resp.status_code != 200:\n",
        "  print(\"Failed to switch the TPU to TF {}\".format(version))"
      ],
      "execution_count": null,
      "outputs": []
    },
    {
      "cell_type": "code",
      "metadata": {
        "id": "tNS8H_uRnmeF"
      },
      "source": [
        "import os\n",
        "import numpy as np\n",
        "import cv2\n",
        "import tensorflow as tf\n",
        "from tensorflow.keras import datasets, layers, models, regularizers, applications, optimizers, activations\n",
        "from sklearn.model_selection import train_test_split\n",
        "import matplotlib.pyplot as plt\n",
        "\n",
        "from sklearn.metrics import precision_score\n",
        "from sklearn.metrics import recall_score\n",
        "from sklearn.metrics import f1_score\n",
        "from sklearn.metrics import accuracy_score"
      ],
      "execution_count": 2,
      "outputs": []
    },
    {
      "cell_type": "code",
      "metadata": {
        "colab": {
          "base_uri": "https://localhost:8080/",
          "height": 35
        },
        "id": "-7npmoAYeuK1",
        "outputId": "23f3fca1-7a37-45f6-c060-3d514b9ee7b7"
      },
      "source": [
        "tf.__version__"
      ],
      "execution_count": 3,
      "outputs": [
        {
          "output_type": "execute_result",
          "data": {
            "application/vnd.google.colaboratory.intrinsic+json": {
              "type": "string"
            },
            "text/plain": [
              "'2.5.0'"
            ]
          },
          "metadata": {
            "tags": []
          },
          "execution_count": 3
        }
      ]
    },
    {
      "cell_type": "markdown",
      "metadata": {
        "id": "_Me1R-S7OjKX"
      },
      "source": [
        "# TPU Setup"
      ]
    },
    {
      "cell_type": "code",
      "metadata": {
        "id": "78Atf2EyOooC"
      },
      "source": [
        "assert 'COLAB_TPU_ADDR' in os.environ, 'Missing TPU; did you request a TPU in Notebook Settings?'\n",
        "\n",
        "if 'COLAB_TPU_ADDR' in os.environ:\n",
        "  TF_MASTER = 'grpc://{}'.format(os.environ['COLAB_TPU_ADDR'])\n",
        "else:\n",
        "  TF_MASTER=''\n",
        "\n",
        "tpu_address = TF_MASTER"
      ],
      "execution_count": 3,
      "outputs": []
    },
    {
      "cell_type": "code",
      "metadata": {
        "colab": {
          "base_uri": "https://localhost:8080/"
        },
        "id": "R3ZyFCecO_yD",
        "outputId": "3871b7c2-7d8a-479e-ce60-abe32bf958f0"
      },
      "source": [
        "resolver = tf.distribute.cluster_resolver.TPUClusterResolver(tpu='')\n",
        "tf.config.experimental_connect_to_cluster(resolver)\n",
        "# This is the TPU initialization code that has to be at the beginning.\n",
        "tf.tpu.experimental.initialize_tpu_system(resolver)\n",
        "print(\"All devices: \", tf.config.list_logical_devices('TPU'))\n",
        "print(\"Number of devices: \", len(tf.config.list_logical_devices('TPU')))"
      ],
      "execution_count": 4,
      "outputs": [
        {
          "output_type": "stream",
          "text": [
            "INFO:tensorflow:Initializing the TPU system: grpc://10.120.128.154:8470\n"
          ],
          "name": "stdout"
        },
        {
          "output_type": "stream",
          "text": [
            "INFO:tensorflow:Initializing the TPU system: grpc://10.120.128.154:8470\n"
          ],
          "name": "stderr"
        },
        {
          "output_type": "stream",
          "text": [
            "INFO:tensorflow:Clearing out eager caches\n"
          ],
          "name": "stdout"
        },
        {
          "output_type": "stream",
          "text": [
            "INFO:tensorflow:Clearing out eager caches\n"
          ],
          "name": "stderr"
        },
        {
          "output_type": "stream",
          "text": [
            "INFO:tensorflow:Finished initializing TPU system.\n"
          ],
          "name": "stdout"
        },
        {
          "output_type": "stream",
          "text": [
            "INFO:tensorflow:Finished initializing TPU system.\n"
          ],
          "name": "stderr"
        },
        {
          "output_type": "stream",
          "text": [
            "All devices:  [LogicalDevice(name='/job:worker/replica:0/task:0/device:TPU:7', device_type='TPU'), LogicalDevice(name='/job:worker/replica:0/task:0/device:TPU:6', device_type='TPU'), LogicalDevice(name='/job:worker/replica:0/task:0/device:TPU:5', device_type='TPU'), LogicalDevice(name='/job:worker/replica:0/task:0/device:TPU:4', device_type='TPU'), LogicalDevice(name='/job:worker/replica:0/task:0/device:TPU:3', device_type='TPU'), LogicalDevice(name='/job:worker/replica:0/task:0/device:TPU:0', device_type='TPU'), LogicalDevice(name='/job:worker/replica:0/task:0/device:TPU:1', device_type='TPU'), LogicalDevice(name='/job:worker/replica:0/task:0/device:TPU:2', device_type='TPU')]\n",
            "Number of devices:  8\n"
          ],
          "name": "stdout"
        }
      ]
    },
    {
      "cell_type": "code",
      "metadata": {
        "colab": {
          "base_uri": "https://localhost:8080/"
        },
        "id": "sW2hXo9sPJb4",
        "outputId": "cb3a9b27-b96f-47c0-b3bb-8d4b4391876a"
      },
      "source": [
        "strategy = tf.distribute.TPUStrategy(resolver)"
      ],
      "execution_count": 5,
      "outputs": [
        {
          "output_type": "stream",
          "text": [
            "INFO:tensorflow:Found TPU system:\n"
          ],
          "name": "stdout"
        },
        {
          "output_type": "stream",
          "text": [
            "INFO:tensorflow:Found TPU system:\n"
          ],
          "name": "stderr"
        },
        {
          "output_type": "stream",
          "text": [
            "INFO:tensorflow:*** Num TPU Cores: 8\n"
          ],
          "name": "stdout"
        },
        {
          "output_type": "stream",
          "text": [
            "INFO:tensorflow:*** Num TPU Cores: 8\n"
          ],
          "name": "stderr"
        },
        {
          "output_type": "stream",
          "text": [
            "INFO:tensorflow:*** Num TPU Workers: 1\n"
          ],
          "name": "stdout"
        },
        {
          "output_type": "stream",
          "text": [
            "INFO:tensorflow:*** Num TPU Workers: 1\n"
          ],
          "name": "stderr"
        },
        {
          "output_type": "stream",
          "text": [
            "INFO:tensorflow:*** Num TPU Cores Per Worker: 8\n"
          ],
          "name": "stdout"
        },
        {
          "output_type": "stream",
          "text": [
            "INFO:tensorflow:*** Num TPU Cores Per Worker: 8\n"
          ],
          "name": "stderr"
        },
        {
          "output_type": "stream",
          "text": [
            "INFO:tensorflow:*** Available Device: _DeviceAttributes(/job:localhost/replica:0/task:0/device:CPU:0, CPU, 0, 0)\n"
          ],
          "name": "stdout"
        },
        {
          "output_type": "stream",
          "text": [
            "INFO:tensorflow:*** Available Device: _DeviceAttributes(/job:localhost/replica:0/task:0/device:CPU:0, CPU, 0, 0)\n"
          ],
          "name": "stderr"
        },
        {
          "output_type": "stream",
          "text": [
            "INFO:tensorflow:*** Available Device: _DeviceAttributes(/job:worker/replica:0/task:0/device:CPU:0, CPU, 0, 0)\n"
          ],
          "name": "stdout"
        },
        {
          "output_type": "stream",
          "text": [
            "INFO:tensorflow:*** Available Device: _DeviceAttributes(/job:worker/replica:0/task:0/device:CPU:0, CPU, 0, 0)\n"
          ],
          "name": "stderr"
        },
        {
          "output_type": "stream",
          "text": [
            "INFO:tensorflow:*** Available Device: _DeviceAttributes(/job:worker/replica:0/task:0/device:TPU:0, TPU, 0, 0)\n"
          ],
          "name": "stdout"
        },
        {
          "output_type": "stream",
          "text": [
            "INFO:tensorflow:*** Available Device: _DeviceAttributes(/job:worker/replica:0/task:0/device:TPU:0, TPU, 0, 0)\n"
          ],
          "name": "stderr"
        },
        {
          "output_type": "stream",
          "text": [
            "INFO:tensorflow:*** Available Device: _DeviceAttributes(/job:worker/replica:0/task:0/device:TPU:1, TPU, 0, 0)\n"
          ],
          "name": "stdout"
        },
        {
          "output_type": "stream",
          "text": [
            "INFO:tensorflow:*** Available Device: _DeviceAttributes(/job:worker/replica:0/task:0/device:TPU:1, TPU, 0, 0)\n"
          ],
          "name": "stderr"
        },
        {
          "output_type": "stream",
          "text": [
            "INFO:tensorflow:*** Available Device: _DeviceAttributes(/job:worker/replica:0/task:0/device:TPU:2, TPU, 0, 0)\n"
          ],
          "name": "stdout"
        },
        {
          "output_type": "stream",
          "text": [
            "INFO:tensorflow:*** Available Device: _DeviceAttributes(/job:worker/replica:0/task:0/device:TPU:2, TPU, 0, 0)\n"
          ],
          "name": "stderr"
        },
        {
          "output_type": "stream",
          "text": [
            "INFO:tensorflow:*** Available Device: _DeviceAttributes(/job:worker/replica:0/task:0/device:TPU:3, TPU, 0, 0)\n"
          ],
          "name": "stdout"
        },
        {
          "output_type": "stream",
          "text": [
            "INFO:tensorflow:*** Available Device: _DeviceAttributes(/job:worker/replica:0/task:0/device:TPU:3, TPU, 0, 0)\n"
          ],
          "name": "stderr"
        },
        {
          "output_type": "stream",
          "text": [
            "INFO:tensorflow:*** Available Device: _DeviceAttributes(/job:worker/replica:0/task:0/device:TPU:4, TPU, 0, 0)\n"
          ],
          "name": "stdout"
        },
        {
          "output_type": "stream",
          "text": [
            "INFO:tensorflow:*** Available Device: _DeviceAttributes(/job:worker/replica:0/task:0/device:TPU:4, TPU, 0, 0)\n"
          ],
          "name": "stderr"
        },
        {
          "output_type": "stream",
          "text": [
            "INFO:tensorflow:*** Available Device: _DeviceAttributes(/job:worker/replica:0/task:0/device:TPU:5, TPU, 0, 0)\n"
          ],
          "name": "stdout"
        },
        {
          "output_type": "stream",
          "text": [
            "INFO:tensorflow:*** Available Device: _DeviceAttributes(/job:worker/replica:0/task:0/device:TPU:5, TPU, 0, 0)\n"
          ],
          "name": "stderr"
        },
        {
          "output_type": "stream",
          "text": [
            "INFO:tensorflow:*** Available Device: _DeviceAttributes(/job:worker/replica:0/task:0/device:TPU:6, TPU, 0, 0)\n"
          ],
          "name": "stdout"
        },
        {
          "output_type": "stream",
          "text": [
            "INFO:tensorflow:*** Available Device: _DeviceAttributes(/job:worker/replica:0/task:0/device:TPU:6, TPU, 0, 0)\n"
          ],
          "name": "stderr"
        },
        {
          "output_type": "stream",
          "text": [
            "INFO:tensorflow:*** Available Device: _DeviceAttributes(/job:worker/replica:0/task:0/device:TPU:7, TPU, 0, 0)\n"
          ],
          "name": "stdout"
        },
        {
          "output_type": "stream",
          "text": [
            "INFO:tensorflow:*** Available Device: _DeviceAttributes(/job:worker/replica:0/task:0/device:TPU:7, TPU, 0, 0)\n"
          ],
          "name": "stderr"
        },
        {
          "output_type": "stream",
          "text": [
            "INFO:tensorflow:*** Available Device: _DeviceAttributes(/job:worker/replica:0/task:0/device:TPU_SYSTEM:0, TPU_SYSTEM, 0, 0)\n"
          ],
          "name": "stdout"
        },
        {
          "output_type": "stream",
          "text": [
            "INFO:tensorflow:*** Available Device: _DeviceAttributes(/job:worker/replica:0/task:0/device:TPU_SYSTEM:0, TPU_SYSTEM, 0, 0)\n"
          ],
          "name": "stderr"
        },
        {
          "output_type": "stream",
          "text": [
            "INFO:tensorflow:*** Available Device: _DeviceAttributes(/job:worker/replica:0/task:0/device:XLA_CPU:0, XLA_CPU, 0, 0)\n"
          ],
          "name": "stdout"
        },
        {
          "output_type": "stream",
          "text": [
            "INFO:tensorflow:*** Available Device: _DeviceAttributes(/job:worker/replica:0/task:0/device:XLA_CPU:0, XLA_CPU, 0, 0)\n"
          ],
          "name": "stderr"
        }
      ]
    },
    {
      "cell_type": "markdown",
      "metadata": {
        "id": "44QKq5A_npwA"
      },
      "source": [
        "# Utils"
      ]
    },
    {
      "cell_type": "code",
      "metadata": {
        "id": "RSIn8g-vnsHE"
      },
      "source": [
        "def load_dataset(size):\n",
        "  if size == 100:\n",
        "\n",
        "    cm = [x for x in os.walk('CM100')][0][2]\n",
        "    hs = [x for x in os.walk('HS100')][0][2]\n",
        "    hc = [x for x in os.walk('HC100')][0][2]\n",
        "\n",
        "  elif size == 200:\n",
        "    cm = [x for x in os.walk('CM200')][0][2]\n",
        "    hs = [x for x in os.walk('HS200')][0][2]\n",
        "    hc = [x for x in os.walk('HC200')][0][2]\n",
        "  \n",
        "  elif size == 224:\n",
        "    cm = [x for x in os.walk('CM224')][0][2]\n",
        "    hs = [x for x in os.walk('HS224')][0][2]\n",
        "    hc = [x for x in os.walk('HC224')][0][2]\n",
        "  \n",
        "  elif size == 50:\n",
        "    cm = [x for x in os.walk('CM50')][0][2]\n",
        "    hs = [x for x in os.walk('HS50')][0][2]\n",
        "    hc = [x for x in os.walk('HC50')][0][2]\n",
        "  \n",
        "  else:\n",
        "    return 'invalid size'\n",
        "  \n",
        "  cm = ['CM50/' + cm[x] for x in range(len(cm))]\n",
        "  hs = ['HS50/' + hs[x] for x in range(len(hs))]\n",
        "  hc = ['HC50/' + hc[x] for x in range(len(hc))]\n",
        "  \n",
        "  cm_label = [0]*len(cm)\n",
        "  hs_label = [1]*len(hs)\n",
        "  hc_label = [2]*len(hc)\n",
        "\n",
        "  dataset = cm+hs+hc\n",
        "  labels = cm_label + hs_label + hc_label\n",
        "\n",
        "  return dataset, labels"
      ],
      "execution_count": 6,
      "outputs": []
    },
    {
      "cell_type": "code",
      "metadata": {
        "id": "qwnOXFsKntud"
      },
      "source": [
        "def read_images(dataset):\n",
        "  images = []\n",
        "  \n",
        "  for filepath in dataset:\n",
        "    images.append(cv2.imread(filepath))\n",
        "  \n",
        "  return images"
      ],
      "execution_count": 7,
      "outputs": []
    },
    {
      "cell_type": "code",
      "metadata": {
        "id": "KX75bS0wnwyg"
      },
      "source": [
        "dataset, labels = load_dataset(50)"
      ],
      "execution_count": 8,
      "outputs": []
    },
    {
      "cell_type": "code",
      "metadata": {
        "id": "yzJ4V8UMnzgd"
      },
      "source": [
        "print(labels.count(0), labels.count(1), labels.count(2))\n",
        "print(len(dataset))"
      ],
      "execution_count": null,
      "outputs": []
    },
    {
      "cell_type": "code",
      "metadata": {
        "id": "uvRGJdv7n0Fe"
      },
      "source": [
        "dataset = read_images(dataset)"
      ],
      "execution_count": 9,
      "outputs": []
    },
    {
      "cell_type": "code",
      "metadata": {
        "id": "3C1u9eEHn1xY"
      },
      "source": [
        "X_train, X_test, y_train, y_test = train_test_split(dataset, labels, test_size=0.3, random_state=37)"
      ],
      "execution_count": 10,
      "outputs": []
    },
    {
      "cell_type": "code",
      "metadata": {
        "id": "kNGJ45A8n3hK"
      },
      "source": [
        "X_train = np.array(X_train) / 255.0\n",
        "X_test = np.array(X_test) / 255.0\n",
        "y_train = np.array(y_train)\n",
        "y_test = np.array(y_test)"
      ],
      "execution_count": 11,
      "outputs": []
    },
    {
      "cell_type": "code",
      "metadata": {
        "colab": {
          "base_uri": "https://localhost:8080/"
        },
        "id": "UYw_zMzrn6G2",
        "outputId": "31b7bea2-691e-40f4-dfde-619600f0a1ce"
      },
      "source": [
        "len(y_train) - np.count_nonzero(y_train) # 397, 27.6%\n",
        "# np.count_nonzero(y_train==1) # 365, 30%\n",
        "# np.count_nonzero(y_train==2) # 334, 32.8%"
      ],
      "execution_count": null,
      "outputs": [
        {
          "output_type": "execute_result",
          "data": {
            "text/plain": [
              "352"
            ]
          },
          "metadata": {
            "tags": []
          },
          "execution_count": 10
        }
      ]
    },
    {
      "cell_type": "code",
      "metadata": {
        "colab": {
          "base_uri": "https://localhost:8080/"
        },
        "id": "m8eHu7Rdn6uR",
        "outputId": "2f7b9101-2d20-455b-b261-404defc12b72"
      },
      "source": [
        "X_train.shape"
      ],
      "execution_count": null,
      "outputs": [
        {
          "output_type": "execute_result",
          "data": {
            "text/plain": [
              "(1050, 50, 50, 3)"
            ]
          },
          "metadata": {
            "tags": []
          },
          "execution_count": 36
        }
      ]
    },
    {
      "cell_type": "code",
      "metadata": {
        "id": "dw5bTuoyn8yp",
        "colab": {
          "base_uri": "https://localhost:8080/"
        },
        "outputId": "53eea865-053b-4a18-c0f2-668da133adff"
      },
      "source": [
        "X_train[0]"
      ],
      "execution_count": null,
      "outputs": [
        {
          "output_type": "execute_result",
          "data": {
            "text/plain": [
              "array([[[0.4745098 , 0.56470588, 0.8627451 ],\n",
              "        [0.43137255, 0.52156863, 0.81568627],\n",
              "        [0.47843137, 0.56078431, 0.85490196],\n",
              "        ...,\n",
              "        [0.38823529, 0.53333333, 0.7372549 ],\n",
              "        [0.38823529, 0.55294118, 0.69803922],\n",
              "        [0.34901961, 0.52156863, 0.64313725]],\n",
              "\n",
              "       [[0.56078431, 0.65882353, 0.94901961],\n",
              "        [0.50588235, 0.60392157, 0.89411765],\n",
              "        [0.52941176, 0.62352941, 0.90588235],\n",
              "        ...,\n",
              "        [0.29803922, 0.44313725, 0.64705882],\n",
              "        [0.3372549 , 0.49803922, 0.65098039],\n",
              "        [0.30588235, 0.4745098 , 0.60392157]],\n",
              "\n",
              "       [[0.51764706, 0.63921569, 0.90980392],\n",
              "        [0.46666667, 0.58823529, 0.85882353],\n",
              "        [0.48627451, 0.6       , 0.8627451 ],\n",
              "        ...,\n",
              "        [0.23137255, 0.37254902, 0.58431373],\n",
              "        [0.25098039, 0.40784314, 0.57254902],\n",
              "        [0.22745098, 0.39215686, 0.52941176]],\n",
              "\n",
              "       ...,\n",
              "\n",
              "       [[0.3254902 , 0.43921569, 0.67843137],\n",
              "        [0.48235294, 0.59607843, 0.83529412],\n",
              "        [0.61176471, 0.72156863, 0.97254902],\n",
              "        ...,\n",
              "        [0.39607843, 0.50980392, 0.78039216],\n",
              "        [0.33333333, 0.45490196, 0.7254902 ],\n",
              "        [0.21960784, 0.34901961, 0.61960784]],\n",
              "\n",
              "       [[0.47058824, 0.58039216, 0.81568627],\n",
              "        [0.55294118, 0.6627451 , 0.89803922],\n",
              "        [0.50980392, 0.61960784, 0.85490196],\n",
              "        ...,\n",
              "        [0.50196078, 0.62352941, 0.87058824],\n",
              "        [0.32156863, 0.42745098, 0.69019608],\n",
              "        [0.28627451, 0.39215686, 0.65490196]],\n",
              "\n",
              "       [[0.3372549 , 0.45098039, 0.6745098 ],\n",
              "        [0.42352941, 0.5372549 , 0.76078431],\n",
              "        [0.38431373, 0.49803922, 0.72156863],\n",
              "        ...,\n",
              "        [0.3372549 , 0.45882353, 0.69803922],\n",
              "        [0.36078431, 0.47058824, 0.7254902 ],\n",
              "        [0.3372549 , 0.43921569, 0.70196078]]])"
            ]
          },
          "metadata": {
            "tags": []
          },
          "execution_count": 37
        }
      ]
    },
    {
      "cell_type": "code",
      "metadata": {
        "id": "yp4m-td3n_Qp"
      },
      "source": [
        "y_train, y_test = np_utils.to_categorical(y_train), np_utils.to_categorical(y_test)"
      ],
      "execution_count": null,
      "outputs": []
    },
    {
      "cell_type": "markdown",
      "metadata": {
        "id": "gUA_SIk3oB-4"
      },
      "source": [
        "# Define Model"
      ]
    },
    {
      "cell_type": "code",
      "metadata": {
        "id": "7TJ4dKkRoBSs"
      },
      "source": [
        "def create_model():\n",
        "  return tf.keras.Sequential(\n",
        "        [\n",
        "        layers.Conv2D(filters=256, kernel_size=(3, 3), activation='relu', input_shape=(50, 50, 3)),\n",
        "        layers.Dropout(0.2),\n",
        "        layers.Conv2D(filters=128, kernel_size=(3, 3), activation='relu'),\n",
        "         \n",
        "        layers.MaxPooling2D((5,5)),\n",
        "        layers.Dropout(0.65),\n",
        "\n",
        "        layers.Flatten(),\n",
        "        \n",
        "        layers.Dense(512, kernel_regularizer=regularizers.l2(0.03)),\n",
        "        layers.LeakyReLU(0.01),\n",
        "        layers.Dropout(0.25),\n",
        "        \n",
        "        layers.Dense(256, kernel_regularizer=regularizers.l2(0.03)),\n",
        "        layers.LeakyReLU(0.01),\n",
        "        layers.Dropout(0.25),\n",
        "        \n",
        "        layers.BatchNormalization(momentum=0.5),\n",
        "        \n",
        "        layers.Dense(128, kernel_regularizer=regularizers.l2(0.02)),\n",
        "        layers.LeakyReLU(0.01),\n",
        "        layers.Dropout(0.25),\n",
        "        \n",
        "        layers.Dense(64, kernel_regularizer=regularizers.l2(0.02)),\n",
        "        layers.LeakyReLU(0.01),\n",
        "        layers.Dropout(0.25),\n",
        "         \n",
        "        layers.Dense(32, kernel_regularizer=regularizers.l2(0.02)),\n",
        "        layers.LeakyReLU(0.01),\n",
        "        layers.Dropout(0.25),\n",
        "        \n",
        "        layers.Dense(3, activation='softmax')\n",
        "    ])"
      ],
      "execution_count": 124,
      "outputs": []
    },
    {
      "cell_type": "code",
      "metadata": {
        "id": "1BJTyslnSA0A"
      },
      "source": [
        "def create_model():\n",
        "  return tf.keras.Sequential(\n",
        "      [tf.keras.layers.Conv2D(256, (3,3), activation='relu', input_shape=(50, 50, 3)),\n",
        "       tf.keras.layers.Conv2D(256, (3,3), activation='relu'),\n",
        "       tf.keras.layers.MaxPooling2D(),\n",
        "       tf.keras.layers.Flatten(),\n",
        "       tf.keras.layers.Dense(256),\n",
        "       tf.keras.layers.LeakyReLU(0.1),\n",
        "       tf.keras.layers.Dense(128),\n",
        "       tf.keras.layers.LeakyReLU(0.1),\n",
        "       tf.keras.layers.Dense(3, activation= 'softmax')\n",
        "       ])"
      ],
      "execution_count": 47,
      "outputs": []
    },
    {
      "cell_type": "code",
      "metadata": {
        "id": "iI1_eGqNRkm3"
      },
      "source": [
        "class CustomCallback(tf.keras.callbacks.Callback):\n",
        "    def on_epoch_end(self, epoch, logs=None):\n",
        "        if logs.get('val_sparse_categorical_accuracy') >= 0.895:\n",
        "            self.model.stop_training = True\n",
        "\n",
        "callback = CustomCallback()"
      ],
      "execution_count": 136,
      "outputs": []
    },
    {
      "cell_type": "code",
      "metadata": {
        "colab": {
          "base_uri": "https://localhost:8080/"
        },
        "id": "t_QwxA4iPpJn",
        "outputId": "64cb0745-26a8-4cf2-d93c-e3e7157fc101"
      },
      "source": [
        "with strategy.scope():\n",
        "  cnn = create_model()\n",
        "  cnn.compile(optimizer='adam',\n",
        "                loss='sparse_categorical_crossentropy',\n",
        "                metrics=['sparse_categorical_accuracy'])\n",
        "  \n",
        "cnn.summary()"
      ],
      "execution_count": 137,
      "outputs": [
        {
          "output_type": "stream",
          "text": [
            "Model: \"sequential_22\"\n",
            "_________________________________________________________________\n",
            "Layer (type)                 Output Shape              Param #   \n",
            "=================================================================\n",
            "conv2d_44 (Conv2D)           (None, 48, 48, 256)       7168      \n",
            "_________________________________________________________________\n",
            "dropout_133 (Dropout)        (None, 48, 48, 256)       0         \n",
            "_________________________________________________________________\n",
            "conv2d_45 (Conv2D)           (None, 46, 46, 128)       295040    \n",
            "_________________________________________________________________\n",
            "max_pooling2d_20 (MaxPooling (None, 9, 9, 128)         0         \n",
            "_________________________________________________________________\n",
            "dropout_134 (Dropout)        (None, 9, 9, 128)         0         \n",
            "_________________________________________________________________\n",
            "flatten_22 (Flatten)         (None, 10368)             0         \n",
            "_________________________________________________________________\n",
            "dense_111 (Dense)            (None, 512)               5308928   \n",
            "_________________________________________________________________\n",
            "leaky_re_lu_89 (LeakyReLU)   (None, 512)               0         \n",
            "_________________________________________________________________\n",
            "dropout_135 (Dropout)        (None, 512)               0         \n",
            "_________________________________________________________________\n",
            "dense_112 (Dense)            (None, 256)               131328    \n",
            "_________________________________________________________________\n",
            "leaky_re_lu_90 (LeakyReLU)   (None, 256)               0         \n",
            "_________________________________________________________________\n",
            "dropout_136 (Dropout)        (None, 256)               0         \n",
            "_________________________________________________________________\n",
            "batch_normalization_22 (Batc (None, 256)               1024      \n",
            "_________________________________________________________________\n",
            "dense_113 (Dense)            (None, 128)               32896     \n",
            "_________________________________________________________________\n",
            "leaky_re_lu_91 (LeakyReLU)   (None, 128)               0         \n",
            "_________________________________________________________________\n",
            "dropout_137 (Dropout)        (None, 128)               0         \n",
            "_________________________________________________________________\n",
            "dense_114 (Dense)            (None, 64)                8256      \n",
            "_________________________________________________________________\n",
            "leaky_re_lu_92 (LeakyReLU)   (None, 64)                0         \n",
            "_________________________________________________________________\n",
            "dropout_138 (Dropout)        (None, 64)                0         \n",
            "_________________________________________________________________\n",
            "dense_115 (Dense)            (None, 32)                2080      \n",
            "_________________________________________________________________\n",
            "leaky_re_lu_93 (LeakyReLU)   (None, 32)                0         \n",
            "_________________________________________________________________\n",
            "dropout_139 (Dropout)        (None, 32)                0         \n",
            "_________________________________________________________________\n",
            "dense_116 (Dense)            (None, 3)                 99        \n",
            "=================================================================\n",
            "Total params: 5,786,819\n",
            "Trainable params: 5,786,307\n",
            "Non-trainable params: 512\n",
            "_________________________________________________________________\n"
          ],
          "name": "stdout"
        }
      ]
    },
    {
      "cell_type": "code",
      "metadata": {
        "colab": {
          "base_uri": "https://localhost:8080/"
        },
        "id": "r5B-JZdgoPUz",
        "outputId": "30295ce6-ebdf-4e11-c0df-0a116c7983d8"
      },
      "source": [
        "cnn_history = cnn.fit(X_train, y_train, epochs=250, batch_size=64, validation_data=(X_test, y_test), callbacks=[callback])"
      ],
      "execution_count": 138,
      "outputs": [
        {
          "output_type": "stream",
          "text": [
            "Epoch 1/250\n",
            " 4/17 [======>.......................] - ETA: 0s - loss: 44.7951 - sparse_categorical_accuracy: 0.3320  WARNING:tensorflow:Callback method `on_train_batch_end` is slow compared to the batch time (batch time: 0.0027s vs `on_train_batch_end` time: 0.6538s). Check your callbacks.\n"
          ],
          "name": "stdout"
        },
        {
          "output_type": "stream",
          "text": [
            "WARNING:tensorflow:Callback method `on_train_batch_end` is slow compared to the batch time (batch time: 0.0027s vs `on_train_batch_end` time: 0.6538s). Check your callbacks.\n"
          ],
          "name": "stderr"
        },
        {
          "output_type": "stream",
          "text": [
            "17/17 [==============================] - 14s 432ms/step - loss: 36.2506 - sparse_categorical_accuracy: 0.3400 - val_loss: 25.1549 - val_sparse_categorical_accuracy: 0.3333\n",
            "Epoch 2/250\n",
            "17/17 [==============================] - 1s 50ms/step - loss: 19.9654 - sparse_categorical_accuracy: 0.3486 - val_loss: 15.1637 - val_sparse_categorical_accuracy: 0.3356\n",
            "Epoch 3/250\n",
            "17/17 [==============================] - 1s 49ms/step - loss: 12.7145 - sparse_categorical_accuracy: 0.3238 - val_loss: 10.2469 - val_sparse_categorical_accuracy: 0.3578\n",
            "Epoch 4/250\n",
            "17/17 [==============================] - 1s 49ms/step - loss: 8.8814 - sparse_categorical_accuracy: 0.3486 - val_loss: 7.4880 - val_sparse_categorical_accuracy: 0.3622\n",
            "Epoch 5/250\n",
            "17/17 [==============================] - 1s 89ms/step - loss: 6.6675 - sparse_categorical_accuracy: 0.3343 - val_loss: 5.7920 - val_sparse_categorical_accuracy: 0.3556\n",
            "Epoch 6/250\n",
            "17/17 [==============================] - 1s 50ms/step - loss: 5.2491 - sparse_categorical_accuracy: 0.3229 - val_loss: 4.6645 - val_sparse_categorical_accuracy: 0.3244\n",
            "Epoch 7/250\n",
            "17/17 [==============================] - 1s 51ms/step - loss: 4.2802 - sparse_categorical_accuracy: 0.3476 - val_loss: 3.8650 - val_sparse_categorical_accuracy: 0.3644\n",
            "Epoch 8/250\n",
            "17/17 [==============================] - 1s 49ms/step - loss: 3.5846 - sparse_categorical_accuracy: 0.3429 - val_loss: 3.2772 - val_sparse_categorical_accuracy: 0.3289\n",
            "Epoch 9/250\n",
            "17/17 [==============================] - 1s 50ms/step - loss: 3.0651 - sparse_categorical_accuracy: 0.3181 - val_loss: 2.8248 - val_sparse_categorical_accuracy: 0.3556\n",
            "Epoch 10/250\n",
            "17/17 [==============================] - 1s 50ms/step - loss: 2.6539 - sparse_categorical_accuracy: 0.3676 - val_loss: 2.4695 - val_sparse_categorical_accuracy: 0.3600\n",
            "Epoch 11/250\n",
            "17/17 [==============================] - 1s 51ms/step - loss: 2.3346 - sparse_categorical_accuracy: 0.3867 - val_loss: 2.1892 - val_sparse_categorical_accuracy: 0.3622\n",
            "Epoch 12/250\n",
            "17/17 [==============================] - 1s 50ms/step - loss: 2.0830 - sparse_categorical_accuracy: 0.3619 - val_loss: 1.9677 - val_sparse_categorical_accuracy: 0.3667\n",
            "Epoch 13/250\n",
            "17/17 [==============================] - 1s 49ms/step - loss: 1.8814 - sparse_categorical_accuracy: 0.3895 - val_loss: 1.7942 - val_sparse_categorical_accuracy: 0.3667\n",
            "Epoch 14/250\n",
            "17/17 [==============================] - 1s 49ms/step - loss: 1.7258 - sparse_categorical_accuracy: 0.3886 - val_loss: 1.6563 - val_sparse_categorical_accuracy: 0.4022\n",
            "Epoch 15/250\n",
            "17/17 [==============================] - 1s 49ms/step - loss: 1.6028 - sparse_categorical_accuracy: 0.4114 - val_loss: 1.5463 - val_sparse_categorical_accuracy: 0.4244\n",
            "Epoch 16/250\n",
            "17/17 [==============================] - 1s 51ms/step - loss: 1.5084 - sparse_categorical_accuracy: 0.4181 - val_loss: 1.4614 - val_sparse_categorical_accuracy: 0.4289\n",
            "Epoch 17/250\n",
            "17/17 [==============================] - 1s 50ms/step - loss: 1.4378 - sparse_categorical_accuracy: 0.4114 - val_loss: 1.3983 - val_sparse_categorical_accuracy: 0.4467\n",
            "Epoch 18/250\n",
            "17/17 [==============================] - 1s 50ms/step - loss: 1.3821 - sparse_categorical_accuracy: 0.4162 - val_loss: 1.3189 - val_sparse_categorical_accuracy: 0.5156\n",
            "Epoch 19/250\n",
            "17/17 [==============================] - 1s 50ms/step - loss: 1.3343 - sparse_categorical_accuracy: 0.4733 - val_loss: 1.3084 - val_sparse_categorical_accuracy: 0.5244\n",
            "Epoch 20/250\n",
            "17/17 [==============================] - 1s 50ms/step - loss: 1.3124 - sparse_categorical_accuracy: 0.5286 - val_loss: 1.2283 - val_sparse_categorical_accuracy: 0.5778\n",
            "Epoch 21/250\n",
            "17/17 [==============================] - 1s 49ms/step - loss: 1.2923 - sparse_categorical_accuracy: 0.5286 - val_loss: 1.1757 - val_sparse_categorical_accuracy: 0.5911\n",
            "Epoch 22/250\n",
            "17/17 [==============================] - 1s 49ms/step - loss: 1.2475 - sparse_categorical_accuracy: 0.5457 - val_loss: 1.1536 - val_sparse_categorical_accuracy: 0.5800\n",
            "Epoch 23/250\n",
            "17/17 [==============================] - 1s 50ms/step - loss: 1.2133 - sparse_categorical_accuracy: 0.5610 - val_loss: 1.1391 - val_sparse_categorical_accuracy: 0.5978\n",
            "Epoch 24/250\n",
            "17/17 [==============================] - 1s 49ms/step - loss: 1.1987 - sparse_categorical_accuracy: 0.5438 - val_loss: 1.1273 - val_sparse_categorical_accuracy: 0.5889\n",
            "Epoch 25/250\n",
            "17/17 [==============================] - 1s 49ms/step - loss: 1.1457 - sparse_categorical_accuracy: 0.5790 - val_loss: 1.0779 - val_sparse_categorical_accuracy: 0.6156\n",
            "Epoch 26/250\n",
            "17/17 [==============================] - 1s 49ms/step - loss: 1.1602 - sparse_categorical_accuracy: 0.5657 - val_loss: 1.0658 - val_sparse_categorical_accuracy: 0.6289\n",
            "Epoch 27/250\n",
            "17/17 [==============================] - 1s 47ms/step - loss: 1.1562 - sparse_categorical_accuracy: 0.5571 - val_loss: 1.1002 - val_sparse_categorical_accuracy: 0.6156\n",
            "Epoch 28/250\n",
            "17/17 [==============================] - 1s 49ms/step - loss: 1.1446 - sparse_categorical_accuracy: 0.5829 - val_loss: 1.0749 - val_sparse_categorical_accuracy: 0.6244\n",
            "Epoch 29/250\n",
            "17/17 [==============================] - 1s 49ms/step - loss: 1.1392 - sparse_categorical_accuracy: 0.5829 - val_loss: 1.2074 - val_sparse_categorical_accuracy: 0.5378\n",
            "Epoch 30/250\n",
            "17/17 [==============================] - 1s 50ms/step - loss: 1.1087 - sparse_categorical_accuracy: 0.6171 - val_loss: 1.0544 - val_sparse_categorical_accuracy: 0.6044\n",
            "Epoch 31/250\n",
            "17/17 [==============================] - 1s 49ms/step - loss: 1.0854 - sparse_categorical_accuracy: 0.6076 - val_loss: 1.1329 - val_sparse_categorical_accuracy: 0.5889\n",
            "Epoch 32/250\n",
            "17/17 [==============================] - 1s 51ms/step - loss: 1.1336 - sparse_categorical_accuracy: 0.6190 - val_loss: 1.0161 - val_sparse_categorical_accuracy: 0.6778\n",
            "Epoch 33/250\n",
            "17/17 [==============================] - 1s 50ms/step - loss: 1.1045 - sparse_categorical_accuracy: 0.6562 - val_loss: 1.0657 - val_sparse_categorical_accuracy: 0.6822\n",
            "Epoch 34/250\n",
            "17/17 [==============================] - 1s 49ms/step - loss: 1.1292 - sparse_categorical_accuracy: 0.6619 - val_loss: 1.0282 - val_sparse_categorical_accuracy: 0.6756\n",
            "Epoch 35/250\n",
            "17/17 [==============================] - 1s 48ms/step - loss: 1.1150 - sparse_categorical_accuracy: 0.6514 - val_loss: 1.0801 - val_sparse_categorical_accuracy: 0.6911\n",
            "Epoch 36/250\n",
            "17/17 [==============================] - 1s 83ms/step - loss: 1.1073 - sparse_categorical_accuracy: 0.6790 - val_loss: 1.1118 - val_sparse_categorical_accuracy: 0.6844\n",
            "Epoch 37/250\n",
            "17/17 [==============================] - 1s 51ms/step - loss: 1.1714 - sparse_categorical_accuracy: 0.6819 - val_loss: 1.0485 - val_sparse_categorical_accuracy: 0.7422\n",
            "Epoch 38/250\n",
            "17/17 [==============================] - 1s 50ms/step - loss: 1.1821 - sparse_categorical_accuracy: 0.6829 - val_loss: 1.0852 - val_sparse_categorical_accuracy: 0.7378\n",
            "Epoch 39/250\n",
            "17/17 [==============================] - 1s 49ms/step - loss: 1.1922 - sparse_categorical_accuracy: 0.6981 - val_loss: 1.1171 - val_sparse_categorical_accuracy: 0.7489\n",
            "Epoch 40/250\n",
            "17/17 [==============================] - 1s 49ms/step - loss: 1.2126 - sparse_categorical_accuracy: 0.6971 - val_loss: 1.1463 - val_sparse_categorical_accuracy: 0.7156\n",
            "Epoch 41/250\n",
            "17/17 [==============================] - 1s 51ms/step - loss: 1.2097 - sparse_categorical_accuracy: 0.6905 - val_loss: 1.0679 - val_sparse_categorical_accuracy: 0.7511\n",
            "Epoch 42/250\n",
            "17/17 [==============================] - 1s 51ms/step - loss: 1.1985 - sparse_categorical_accuracy: 0.6848 - val_loss: 1.0592 - val_sparse_categorical_accuracy: 0.7533\n",
            "Epoch 43/250\n",
            "17/17 [==============================] - 1s 49ms/step - loss: 1.0787 - sparse_categorical_accuracy: 0.7495 - val_loss: 0.9982 - val_sparse_categorical_accuracy: 0.7711\n",
            "Epoch 44/250\n",
            "17/17 [==============================] - 1s 49ms/step - loss: 1.1390 - sparse_categorical_accuracy: 0.7219 - val_loss: 1.1321 - val_sparse_categorical_accuracy: 0.7400\n",
            "Epoch 45/250\n",
            "17/17 [==============================] - 1s 50ms/step - loss: 1.1315 - sparse_categorical_accuracy: 0.7638 - val_loss: 1.1591 - val_sparse_categorical_accuracy: 0.7622\n",
            "Epoch 46/250\n",
            "17/17 [==============================] - 1s 49ms/step - loss: 1.1568 - sparse_categorical_accuracy: 0.7457 - val_loss: 1.0709 - val_sparse_categorical_accuracy: 0.7800\n",
            "Epoch 47/250\n",
            "17/17 [==============================] - 1s 50ms/step - loss: 1.1152 - sparse_categorical_accuracy: 0.7781 - val_loss: 1.0883 - val_sparse_categorical_accuracy: 0.7889\n",
            "Epoch 48/250\n",
            "17/17 [==============================] - 1s 49ms/step - loss: 1.1412 - sparse_categorical_accuracy: 0.7571 - val_loss: 1.0910 - val_sparse_categorical_accuracy: 0.7733\n",
            "Epoch 49/250\n",
            "17/17 [==============================] - 1s 48ms/step - loss: 1.1467 - sparse_categorical_accuracy: 0.7657 - val_loss: 1.0835 - val_sparse_categorical_accuracy: 0.7689\n",
            "Epoch 50/250\n",
            "17/17 [==============================] - 1s 49ms/step - loss: 1.1344 - sparse_categorical_accuracy: 0.7543 - val_loss: 1.1314 - val_sparse_categorical_accuracy: 0.7667\n",
            "Epoch 51/250\n",
            "17/17 [==============================] - 1s 49ms/step - loss: 1.1736 - sparse_categorical_accuracy: 0.7590 - val_loss: 1.1068 - val_sparse_categorical_accuracy: 0.7578\n",
            "Epoch 52/250\n",
            "17/17 [==============================] - 1s 50ms/step - loss: 1.1303 - sparse_categorical_accuracy: 0.7810 - val_loss: 1.1351 - val_sparse_categorical_accuracy: 0.7667\n",
            "Epoch 53/250\n",
            "17/17 [==============================] - 1s 49ms/step - loss: 1.1516 - sparse_categorical_accuracy: 0.7790 - val_loss: 1.1287 - val_sparse_categorical_accuracy: 0.7800\n",
            "Epoch 54/250\n",
            "17/17 [==============================] - 1s 49ms/step - loss: 1.1204 - sparse_categorical_accuracy: 0.7914 - val_loss: 1.1501 - val_sparse_categorical_accuracy: 0.7933\n",
            "Epoch 55/250\n",
            "17/17 [==============================] - 1s 50ms/step - loss: 1.1408 - sparse_categorical_accuracy: 0.7829 - val_loss: 1.0965 - val_sparse_categorical_accuracy: 0.7867\n",
            "Epoch 56/250\n",
            "17/17 [==============================] - 1s 49ms/step - loss: 1.0686 - sparse_categorical_accuracy: 0.7971 - val_loss: 1.0486 - val_sparse_categorical_accuracy: 0.7800\n",
            "Epoch 57/250\n",
            "17/17 [==============================] - 1s 49ms/step - loss: 1.0549 - sparse_categorical_accuracy: 0.8048 - val_loss: 0.9952 - val_sparse_categorical_accuracy: 0.8044\n",
            "Epoch 58/250\n",
            "17/17 [==============================] - 1s 51ms/step - loss: 1.0371 - sparse_categorical_accuracy: 0.7990 - val_loss: 1.0160 - val_sparse_categorical_accuracy: 0.7911\n",
            "Epoch 59/250\n",
            "17/17 [==============================] - 1s 51ms/step - loss: 1.0388 - sparse_categorical_accuracy: 0.8105 - val_loss: 1.0206 - val_sparse_categorical_accuracy: 0.7778\n",
            "Epoch 60/250\n",
            "17/17 [==============================] - 1s 48ms/step - loss: 1.0526 - sparse_categorical_accuracy: 0.8019 - val_loss: 1.0187 - val_sparse_categorical_accuracy: 0.7933\n",
            "Epoch 61/250\n",
            "17/17 [==============================] - 1s 50ms/step - loss: 1.0309 - sparse_categorical_accuracy: 0.8248 - val_loss: 1.0379 - val_sparse_categorical_accuracy: 0.8044\n",
            "Epoch 62/250\n",
            "17/17 [==============================] - 1s 49ms/step - loss: 1.0796 - sparse_categorical_accuracy: 0.8095 - val_loss: 1.0981 - val_sparse_categorical_accuracy: 0.7978\n",
            "Epoch 63/250\n",
            "17/17 [==============================] - 1s 50ms/step - loss: 1.0605 - sparse_categorical_accuracy: 0.8343 - val_loss: 1.0538 - val_sparse_categorical_accuracy: 0.8022\n",
            "Epoch 64/250\n",
            "17/17 [==============================] - 1s 49ms/step - loss: 1.0961 - sparse_categorical_accuracy: 0.7981 - val_loss: 1.0466 - val_sparse_categorical_accuracy: 0.8067\n",
            "Epoch 65/250\n",
            "17/17 [==============================] - 1s 50ms/step - loss: 1.0271 - sparse_categorical_accuracy: 0.8305 - val_loss: 1.0206 - val_sparse_categorical_accuracy: 0.8200\n",
            "Epoch 66/250\n",
            "17/17 [==============================] - 1s 55ms/step - loss: 1.0384 - sparse_categorical_accuracy: 0.8229 - val_loss: 1.0727 - val_sparse_categorical_accuracy: 0.8178\n",
            "Epoch 67/250\n",
            "17/17 [==============================] - 1s 81ms/step - loss: 1.1453 - sparse_categorical_accuracy: 0.8095 - val_loss: 1.1491 - val_sparse_categorical_accuracy: 0.8044\n",
            "Epoch 68/250\n",
            "17/17 [==============================] - 1s 50ms/step - loss: 1.0678 - sparse_categorical_accuracy: 0.8352 - val_loss: 1.1176 - val_sparse_categorical_accuracy: 0.8133\n",
            "Epoch 69/250\n",
            "17/17 [==============================] - 1s 49ms/step - loss: 1.0972 - sparse_categorical_accuracy: 0.8200 - val_loss: 1.0853 - val_sparse_categorical_accuracy: 0.8111\n",
            "Epoch 70/250\n",
            "17/17 [==============================] - 1s 49ms/step - loss: 1.0346 - sparse_categorical_accuracy: 0.8305 - val_loss: 1.0492 - val_sparse_categorical_accuracy: 0.8022\n",
            "Epoch 71/250\n",
            "17/17 [==============================] - 1s 48ms/step - loss: 1.0444 - sparse_categorical_accuracy: 0.8229 - val_loss: 1.1051 - val_sparse_categorical_accuracy: 0.8022\n",
            "Epoch 72/250\n",
            "17/17 [==============================] - 1s 50ms/step - loss: 1.0313 - sparse_categorical_accuracy: 0.8305 - val_loss: 1.0926 - val_sparse_categorical_accuracy: 0.8022\n",
            "Epoch 73/250\n",
            "17/17 [==============================] - 1s 50ms/step - loss: 1.0237 - sparse_categorical_accuracy: 0.8400 - val_loss: 1.1256 - val_sparse_categorical_accuracy: 0.7889\n",
            "Epoch 74/250\n",
            "17/17 [==============================] - 1s 50ms/step - loss: 0.9905 - sparse_categorical_accuracy: 0.8419 - val_loss: 1.0338 - val_sparse_categorical_accuracy: 0.8156\n",
            "Epoch 75/250\n",
            "17/17 [==============================] - 1s 48ms/step - loss: 1.0674 - sparse_categorical_accuracy: 0.8162 - val_loss: 1.0823 - val_sparse_categorical_accuracy: 0.8133\n",
            "Epoch 76/250\n",
            "17/17 [==============================] - 1s 50ms/step - loss: 0.9893 - sparse_categorical_accuracy: 0.8581 - val_loss: 1.0221 - val_sparse_categorical_accuracy: 0.8111\n",
            "Epoch 77/250\n",
            "17/17 [==============================] - 1s 49ms/step - loss: 0.9579 - sparse_categorical_accuracy: 0.8571 - val_loss: 1.0325 - val_sparse_categorical_accuracy: 0.7911\n",
            "Epoch 78/250\n",
            "17/17 [==============================] - 1s 51ms/step - loss: 0.9890 - sparse_categorical_accuracy: 0.8457 - val_loss: 1.0052 - val_sparse_categorical_accuracy: 0.8133\n",
            "Epoch 79/250\n",
            "17/17 [==============================] - 1s 49ms/step - loss: 0.9518 - sparse_categorical_accuracy: 0.8486 - val_loss: 0.9702 - val_sparse_categorical_accuracy: 0.8267\n",
            "Epoch 80/250\n",
            "17/17 [==============================] - 1s 50ms/step - loss: 0.9268 - sparse_categorical_accuracy: 0.8667 - val_loss: 0.9705 - val_sparse_categorical_accuracy: 0.8267\n",
            "Epoch 81/250\n",
            "17/17 [==============================] - 1s 50ms/step - loss: 0.9307 - sparse_categorical_accuracy: 0.8695 - val_loss: 0.9706 - val_sparse_categorical_accuracy: 0.8378\n",
            "Epoch 82/250\n",
            "17/17 [==============================] - 1s 48ms/step - loss: 0.9427 - sparse_categorical_accuracy: 0.8581 - val_loss: 1.0408 - val_sparse_categorical_accuracy: 0.8178\n",
            "Epoch 83/250\n",
            "17/17 [==============================] - 1s 49ms/step - loss: 0.9885 - sparse_categorical_accuracy: 0.8267 - val_loss: 0.9754 - val_sparse_categorical_accuracy: 0.8267\n",
            "Epoch 84/250\n",
            "17/17 [==============================] - 1s 49ms/step - loss: 0.9179 - sparse_categorical_accuracy: 0.8762 - val_loss: 1.0010 - val_sparse_categorical_accuracy: 0.8133\n",
            "Epoch 85/250\n",
            "17/17 [==============================] - 1s 48ms/step - loss: 0.9221 - sparse_categorical_accuracy: 0.8667 - val_loss: 0.9819 - val_sparse_categorical_accuracy: 0.8267\n",
            "Epoch 86/250\n",
            "17/17 [==============================] - 1s 50ms/step - loss: 0.9655 - sparse_categorical_accuracy: 0.8524 - val_loss: 1.0265 - val_sparse_categorical_accuracy: 0.8156\n",
            "Epoch 87/250\n",
            "17/17 [==============================] - 1s 50ms/step - loss: 0.9297 - sparse_categorical_accuracy: 0.8705 - val_loss: 0.9921 - val_sparse_categorical_accuracy: 0.8311\n",
            "Epoch 88/250\n",
            "17/17 [==============================] - 1s 50ms/step - loss: 0.9263 - sparse_categorical_accuracy: 0.8705 - val_loss: 0.9737 - val_sparse_categorical_accuracy: 0.8289\n",
            "Epoch 89/250\n",
            "17/17 [==============================] - 1s 49ms/step - loss: 0.9623 - sparse_categorical_accuracy: 0.8495 - val_loss: 1.0046 - val_sparse_categorical_accuracy: 0.8133\n",
            "Epoch 90/250\n",
            "17/17 [==============================] - 1s 49ms/step - loss: 0.8986 - sparse_categorical_accuracy: 0.8714 - val_loss: 0.9905 - val_sparse_categorical_accuracy: 0.8289\n",
            "Epoch 91/250\n",
            "17/17 [==============================] - 1s 49ms/step - loss: 0.9286 - sparse_categorical_accuracy: 0.8581 - val_loss: 1.0868 - val_sparse_categorical_accuracy: 0.8089\n",
            "Epoch 92/250\n",
            "17/17 [==============================] - 1s 50ms/step - loss: 0.9575 - sparse_categorical_accuracy: 0.8581 - val_loss: 0.9989 - val_sparse_categorical_accuracy: 0.8156\n",
            "Epoch 93/250\n",
            "17/17 [==============================] - 1s 49ms/step - loss: 0.9100 - sparse_categorical_accuracy: 0.8676 - val_loss: 0.9509 - val_sparse_categorical_accuracy: 0.8400\n",
            "Epoch 94/250\n",
            "17/17 [==============================] - 1s 48ms/step - loss: 0.9120 - sparse_categorical_accuracy: 0.8714 - val_loss: 0.9384 - val_sparse_categorical_accuracy: 0.8400\n",
            "Epoch 95/250\n",
            "17/17 [==============================] - 1s 85ms/step - loss: 0.8855 - sparse_categorical_accuracy: 0.8676 - val_loss: 0.9317 - val_sparse_categorical_accuracy: 0.8378\n",
            "Epoch 96/250\n",
            "17/17 [==============================] - 1s 49ms/step - loss: 0.8471 - sparse_categorical_accuracy: 0.8762 - val_loss: 0.9836 - val_sparse_categorical_accuracy: 0.8244\n",
            "Epoch 97/250\n",
            "17/17 [==============================] - 1s 49ms/step - loss: 0.8083 - sparse_categorical_accuracy: 0.9010 - val_loss: 0.9422 - val_sparse_categorical_accuracy: 0.8444\n",
            "Epoch 98/250\n",
            "17/17 [==============================] - 1s 49ms/step - loss: 0.8390 - sparse_categorical_accuracy: 0.8790 - val_loss: 0.9795 - val_sparse_categorical_accuracy: 0.8222\n",
            "Epoch 99/250\n",
            "17/17 [==============================] - 1s 50ms/step - loss: 0.8539 - sparse_categorical_accuracy: 0.8695 - val_loss: 0.9762 - val_sparse_categorical_accuracy: 0.8356\n",
            "Epoch 100/250\n",
            "17/17 [==============================] - 1s 52ms/step - loss: 0.8763 - sparse_categorical_accuracy: 0.8810 - val_loss: 0.9489 - val_sparse_categorical_accuracy: 0.8444\n",
            "Epoch 101/250\n",
            "17/17 [==============================] - 1s 49ms/step - loss: 0.8937 - sparse_categorical_accuracy: 0.8705 - val_loss: 0.9649 - val_sparse_categorical_accuracy: 0.8422\n",
            "Epoch 102/250\n",
            "17/17 [==============================] - 1s 51ms/step - loss: 0.9010 - sparse_categorical_accuracy: 0.8619 - val_loss: 0.9500 - val_sparse_categorical_accuracy: 0.8356\n",
            "Epoch 103/250\n",
            "17/17 [==============================] - 1s 50ms/step - loss: 0.8330 - sparse_categorical_accuracy: 0.8876 - val_loss: 1.0352 - val_sparse_categorical_accuracy: 0.8289\n",
            "Epoch 104/250\n",
            "17/17 [==============================] - 1s 49ms/step - loss: 0.8726 - sparse_categorical_accuracy: 0.8752 - val_loss: 0.9416 - val_sparse_categorical_accuracy: 0.8378\n",
            "Epoch 105/250\n",
            "17/17 [==============================] - 1s 50ms/step - loss: 0.8555 - sparse_categorical_accuracy: 0.8905 - val_loss: 0.9611 - val_sparse_categorical_accuracy: 0.8422\n",
            "Epoch 106/250\n",
            "17/17 [==============================] - 1s 52ms/step - loss: 0.8348 - sparse_categorical_accuracy: 0.8971 - val_loss: 0.9751 - val_sparse_categorical_accuracy: 0.8378\n",
            "Epoch 107/250\n",
            "17/17 [==============================] - 1s 50ms/step - loss: 0.8644 - sparse_categorical_accuracy: 0.8905 - val_loss: 1.0125 - val_sparse_categorical_accuracy: 0.8422\n",
            "Epoch 108/250\n",
            "17/17 [==============================] - 1s 48ms/step - loss: 0.8559 - sparse_categorical_accuracy: 0.8952 - val_loss: 0.9896 - val_sparse_categorical_accuracy: 0.8333\n",
            "Epoch 109/250\n",
            "17/17 [==============================] - 1s 50ms/step - loss: 0.8597 - sparse_categorical_accuracy: 0.8857 - val_loss: 1.0064 - val_sparse_categorical_accuracy: 0.8244\n",
            "Epoch 110/250\n",
            "17/17 [==============================] - 1s 49ms/step - loss: 0.8814 - sparse_categorical_accuracy: 0.8857 - val_loss: 0.9389 - val_sparse_categorical_accuracy: 0.8467\n",
            "Epoch 111/250\n",
            "17/17 [==============================] - 1s 49ms/step - loss: 0.8640 - sparse_categorical_accuracy: 0.8895 - val_loss: 0.9881 - val_sparse_categorical_accuracy: 0.8400\n",
            "Epoch 112/250\n",
            "17/17 [==============================] - 1s 48ms/step - loss: 0.9112 - sparse_categorical_accuracy: 0.8771 - val_loss: 0.9966 - val_sparse_categorical_accuracy: 0.8289\n",
            "Epoch 113/250\n",
            "17/17 [==============================] - 1s 49ms/step - loss: 0.9054 - sparse_categorical_accuracy: 0.8771 - val_loss: 0.9320 - val_sparse_categorical_accuracy: 0.8644\n",
            "Epoch 114/250\n",
            "17/17 [==============================] - 1s 50ms/step - loss: 0.8665 - sparse_categorical_accuracy: 0.8886 - val_loss: 0.9503 - val_sparse_categorical_accuracy: 0.8533\n",
            "Epoch 115/250\n",
            "17/17 [==============================] - 1s 51ms/step - loss: 0.8367 - sparse_categorical_accuracy: 0.9048 - val_loss: 1.0190 - val_sparse_categorical_accuracy: 0.8333\n",
            "Epoch 116/250\n",
            "17/17 [==============================] - 1s 50ms/step - loss: 0.8734 - sparse_categorical_accuracy: 0.8895 - val_loss: 1.0095 - val_sparse_categorical_accuracy: 0.8489\n",
            "Epoch 117/250\n",
            "17/17 [==============================] - 1s 51ms/step - loss: 0.8993 - sparse_categorical_accuracy: 0.8790 - val_loss: 1.0283 - val_sparse_categorical_accuracy: 0.8467\n",
            "Epoch 118/250\n",
            "17/17 [==============================] - 1s 50ms/step - loss: 0.8915 - sparse_categorical_accuracy: 0.8838 - val_loss: 0.9621 - val_sparse_categorical_accuracy: 0.8600\n",
            "Epoch 119/250\n",
            "17/17 [==============================] - 1s 49ms/step - loss: 0.8970 - sparse_categorical_accuracy: 0.8714 - val_loss: 0.9558 - val_sparse_categorical_accuracy: 0.8489\n",
            "Epoch 120/250\n",
            "17/17 [==============================] - 1s 83ms/step - loss: 0.9104 - sparse_categorical_accuracy: 0.8810 - val_loss: 1.0748 - val_sparse_categorical_accuracy: 0.8089\n",
            "Epoch 121/250\n",
            "17/17 [==============================] - 1s 49ms/step - loss: 0.8868 - sparse_categorical_accuracy: 0.8905 - val_loss: 1.0461 - val_sparse_categorical_accuracy: 0.8289\n",
            "Epoch 122/250\n",
            "17/17 [==============================] - 1s 49ms/step - loss: 0.8566 - sparse_categorical_accuracy: 0.8981 - val_loss: 0.9830 - val_sparse_categorical_accuracy: 0.8600\n",
            "Epoch 123/250\n",
            "17/17 [==============================] - 1s 50ms/step - loss: 0.9157 - sparse_categorical_accuracy: 0.8819 - val_loss: 0.9723 - val_sparse_categorical_accuracy: 0.8444\n",
            "Epoch 124/250\n",
            "17/17 [==============================] - 1s 50ms/step - loss: 0.8676 - sparse_categorical_accuracy: 0.8943 - val_loss: 1.0384 - val_sparse_categorical_accuracy: 0.8289\n",
            "Epoch 125/250\n",
            "17/17 [==============================] - 1s 52ms/step - loss: 0.8361 - sparse_categorical_accuracy: 0.9019 - val_loss: 1.0132 - val_sparse_categorical_accuracy: 0.8356\n",
            "Epoch 126/250\n",
            "17/17 [==============================] - 1s 51ms/step - loss: 0.8728 - sparse_categorical_accuracy: 0.8876 - val_loss: 1.0029 - val_sparse_categorical_accuracy: 0.8267\n",
            "Epoch 127/250\n",
            "17/17 [==============================] - 1s 50ms/step - loss: 0.8284 - sparse_categorical_accuracy: 0.9105 - val_loss: 0.9626 - val_sparse_categorical_accuracy: 0.8644\n",
            "Epoch 128/250\n",
            "17/17 [==============================] - 1s 51ms/step - loss: 0.8028 - sparse_categorical_accuracy: 0.9019 - val_loss: 0.9722 - val_sparse_categorical_accuracy: 0.8422\n",
            "Epoch 129/250\n",
            "17/17 [==============================] - 1s 52ms/step - loss: 0.8023 - sparse_categorical_accuracy: 0.9133 - val_loss: 0.9844 - val_sparse_categorical_accuracy: 0.8556\n",
            "Epoch 130/250\n",
            "17/17 [==============================] - 1s 51ms/step - loss: 0.8392 - sparse_categorical_accuracy: 0.8971 - val_loss: 0.9371 - val_sparse_categorical_accuracy: 0.8378\n",
            "Epoch 131/250\n",
            "17/17 [==============================] - 1s 50ms/step - loss: 0.7765 - sparse_categorical_accuracy: 0.9181 - val_loss: 0.9491 - val_sparse_categorical_accuracy: 0.8533\n",
            "Epoch 132/250\n",
            "17/17 [==============================] - 1s 50ms/step - loss: 0.7994 - sparse_categorical_accuracy: 0.9124 - val_loss: 0.9152 - val_sparse_categorical_accuracy: 0.8622\n",
            "Epoch 133/250\n",
            "17/17 [==============================] - 1s 53ms/step - loss: 0.7871 - sparse_categorical_accuracy: 0.9010 - val_loss: 0.9826 - val_sparse_categorical_accuracy: 0.8422\n",
            "Epoch 134/250\n",
            "17/17 [==============================] - 1s 50ms/step - loss: 0.8026 - sparse_categorical_accuracy: 0.9105 - val_loss: 0.9306 - val_sparse_categorical_accuracy: 0.8578\n",
            "Epoch 135/250\n",
            "17/17 [==============================] - 1s 51ms/step - loss: 0.7764 - sparse_categorical_accuracy: 0.9133 - val_loss: 1.0190 - val_sparse_categorical_accuracy: 0.8244\n",
            "Epoch 136/250\n",
            "17/17 [==============================] - 1s 49ms/step - loss: 0.7952 - sparse_categorical_accuracy: 0.9067 - val_loss: 0.9732 - val_sparse_categorical_accuracy: 0.8444\n",
            "Epoch 137/250\n",
            "17/17 [==============================] - 1s 51ms/step - loss: 0.8439 - sparse_categorical_accuracy: 0.8857 - val_loss: 0.9859 - val_sparse_categorical_accuracy: 0.8356\n",
            "Epoch 138/250\n",
            "17/17 [==============================] - 1s 48ms/step - loss: 0.8037 - sparse_categorical_accuracy: 0.9114 - val_loss: 0.9260 - val_sparse_categorical_accuracy: 0.8600\n",
            "Epoch 139/250\n",
            "17/17 [==============================] - 1s 51ms/step - loss: 0.7903 - sparse_categorical_accuracy: 0.9095 - val_loss: 0.9749 - val_sparse_categorical_accuracy: 0.8444\n",
            "Epoch 140/250\n",
            "17/17 [==============================] - 1s 52ms/step - loss: 0.7696 - sparse_categorical_accuracy: 0.9124 - val_loss: 1.0030 - val_sparse_categorical_accuracy: 0.8378\n",
            "Epoch 141/250\n",
            "17/17 [==============================] - 1s 52ms/step - loss: 0.7232 - sparse_categorical_accuracy: 0.9219 - val_loss: 0.9676 - val_sparse_categorical_accuracy: 0.8533\n",
            "Epoch 142/250\n",
            "17/17 [==============================] - 1s 52ms/step - loss: 0.7716 - sparse_categorical_accuracy: 0.9057 - val_loss: 1.0027 - val_sparse_categorical_accuracy: 0.8244\n",
            "Epoch 143/250\n",
            "17/17 [==============================] - 1s 85ms/step - loss: 0.8443 - sparse_categorical_accuracy: 0.8895 - val_loss: 1.0713 - val_sparse_categorical_accuracy: 0.8311\n",
            "Epoch 144/250\n",
            "17/17 [==============================] - 1s 48ms/step - loss: 1.0661 - sparse_categorical_accuracy: 0.8933 - val_loss: 1.2525 - val_sparse_categorical_accuracy: 0.8511\n",
            "Epoch 145/250\n",
            "17/17 [==============================] - 1s 49ms/step - loss: 1.0667 - sparse_categorical_accuracy: 0.9067 - val_loss: 1.2013 - val_sparse_categorical_accuracy: 0.8622\n",
            "Epoch 146/250\n",
            "17/17 [==============================] - 1s 51ms/step - loss: 0.9995 - sparse_categorical_accuracy: 0.9019 - val_loss: 1.1111 - val_sparse_categorical_accuracy: 0.8356\n",
            "Epoch 147/250\n",
            "17/17 [==============================] - 1s 52ms/step - loss: 0.9084 - sparse_categorical_accuracy: 0.9114 - val_loss: 1.0550 - val_sparse_categorical_accuracy: 0.8556\n",
            "Epoch 148/250\n",
            "17/17 [==============================] - 1s 51ms/step - loss: 0.8471 - sparse_categorical_accuracy: 0.9095 - val_loss: 1.0626 - val_sparse_categorical_accuracy: 0.8267\n",
            "Epoch 149/250\n",
            "17/17 [==============================] - 1s 50ms/step - loss: 0.8841 - sparse_categorical_accuracy: 0.8914 - val_loss: 1.0356 - val_sparse_categorical_accuracy: 0.8311\n",
            "Epoch 150/250\n",
            "17/17 [==============================] - 1s 50ms/step - loss: 0.8590 - sparse_categorical_accuracy: 0.8914 - val_loss: 0.9429 - val_sparse_categorical_accuracy: 0.8667\n",
            "Epoch 151/250\n",
            "17/17 [==============================] - 1s 49ms/step - loss: 0.8832 - sparse_categorical_accuracy: 0.9019 - val_loss: 1.0539 - val_sparse_categorical_accuracy: 0.8400\n",
            "Epoch 152/250\n",
            "17/17 [==============================] - 1s 51ms/step - loss: 0.8882 - sparse_categorical_accuracy: 0.9057 - val_loss: 1.0309 - val_sparse_categorical_accuracy: 0.8556\n",
            "Epoch 153/250\n",
            "17/17 [==============================] - 1s 51ms/step - loss: 0.8394 - sparse_categorical_accuracy: 0.9105 - val_loss: 0.9715 - val_sparse_categorical_accuracy: 0.8622\n",
            "Epoch 154/250\n",
            "17/17 [==============================] - 1s 52ms/step - loss: 0.8326 - sparse_categorical_accuracy: 0.9124 - val_loss: 0.9130 - val_sparse_categorical_accuracy: 0.8800\n",
            "Epoch 155/250\n",
            "17/17 [==============================] - 1s 49ms/step - loss: 0.7989 - sparse_categorical_accuracy: 0.9171 - val_loss: 1.0214 - val_sparse_categorical_accuracy: 0.8578\n",
            "Epoch 156/250\n",
            "17/17 [==============================] - 1s 51ms/step - loss: 0.8802 - sparse_categorical_accuracy: 0.9171 - val_loss: 1.0996 - val_sparse_categorical_accuracy: 0.8622\n",
            "Epoch 157/250\n",
            "17/17 [==============================] - 1s 52ms/step - loss: 0.9976 - sparse_categorical_accuracy: 0.9029 - val_loss: 1.1120 - val_sparse_categorical_accuracy: 0.8622\n",
            "Epoch 158/250\n",
            "17/17 [==============================] - 1s 52ms/step - loss: 1.0182 - sparse_categorical_accuracy: 0.8771 - val_loss: 1.0224 - val_sparse_categorical_accuracy: 0.8689\n",
            "Epoch 159/250\n",
            "17/17 [==============================] - 1s 49ms/step - loss: 0.8977 - sparse_categorical_accuracy: 0.9038 - val_loss: 0.9649 - val_sparse_categorical_accuracy: 0.8711\n",
            "Epoch 160/250\n",
            "17/17 [==============================] - 1s 49ms/step - loss: 0.8858 - sparse_categorical_accuracy: 0.9048 - val_loss: 0.9968 - val_sparse_categorical_accuracy: 0.8422\n",
            "Epoch 161/250\n",
            "17/17 [==============================] - 1s 50ms/step - loss: 0.8795 - sparse_categorical_accuracy: 0.9010 - val_loss: 1.0304 - val_sparse_categorical_accuracy: 0.8333\n",
            "Epoch 162/250\n",
            "17/17 [==============================] - 1s 52ms/step - loss: 0.8425 - sparse_categorical_accuracy: 0.9171 - val_loss: 0.9630 - val_sparse_categorical_accuracy: 0.8667\n",
            "Epoch 163/250\n",
            "17/17 [==============================] - 1s 50ms/step - loss: 0.8432 - sparse_categorical_accuracy: 0.9057 - val_loss: 1.0801 - val_sparse_categorical_accuracy: 0.8333\n",
            "Epoch 164/250\n",
            "17/17 [==============================] - 1s 51ms/step - loss: 0.8011 - sparse_categorical_accuracy: 0.9267 - val_loss: 0.9969 - val_sparse_categorical_accuracy: 0.8444\n",
            "Epoch 165/250\n",
            "17/17 [==============================] - 1s 50ms/step - loss: 0.7843 - sparse_categorical_accuracy: 0.9181 - val_loss: 1.0354 - val_sparse_categorical_accuracy: 0.8200\n",
            "Epoch 166/250\n",
            "17/17 [==============================] - 1s 86ms/step - loss: 0.7919 - sparse_categorical_accuracy: 0.9143 - val_loss: 1.0015 - val_sparse_categorical_accuracy: 0.8400\n",
            "Epoch 167/250\n",
            "17/17 [==============================] - 1s 50ms/step - loss: 0.7983 - sparse_categorical_accuracy: 0.9143 - val_loss: 1.0165 - val_sparse_categorical_accuracy: 0.8644\n",
            "Epoch 168/250\n",
            "17/17 [==============================] - 1s 51ms/step - loss: 0.8207 - sparse_categorical_accuracy: 0.9229 - val_loss: 1.0228 - val_sparse_categorical_accuracy: 0.8622\n",
            "Epoch 169/250\n",
            "17/17 [==============================] - 1s 53ms/step - loss: 0.7904 - sparse_categorical_accuracy: 0.9410 - val_loss: 0.9742 - val_sparse_categorical_accuracy: 0.8667\n",
            "Epoch 170/250\n",
            "17/17 [==============================] - 1s 52ms/step - loss: 0.8842 - sparse_categorical_accuracy: 0.8848 - val_loss: 1.0962 - val_sparse_categorical_accuracy: 0.8333\n",
            "Epoch 171/250\n",
            "17/17 [==============================] - 1s 51ms/step - loss: 0.8994 - sparse_categorical_accuracy: 0.9162 - val_loss: 1.1175 - val_sparse_categorical_accuracy: 0.8422\n",
            "Epoch 172/250\n",
            "17/17 [==============================] - 1s 51ms/step - loss: 0.9004 - sparse_categorical_accuracy: 0.9133 - val_loss: 1.0224 - val_sparse_categorical_accuracy: 0.8578\n",
            "Epoch 173/250\n",
            "17/17 [==============================] - 1s 51ms/step - loss: 0.8458 - sparse_categorical_accuracy: 0.9114 - val_loss: 0.9839 - val_sparse_categorical_accuracy: 0.8600\n",
            "Epoch 174/250\n",
            "17/17 [==============================] - 1s 51ms/step - loss: 0.8660 - sparse_categorical_accuracy: 0.9076 - val_loss: 1.0166 - val_sparse_categorical_accuracy: 0.8511\n",
            "Epoch 175/250\n",
            "17/17 [==============================] - 1s 52ms/step - loss: 0.8155 - sparse_categorical_accuracy: 0.9133 - val_loss: 0.9581 - val_sparse_categorical_accuracy: 0.8689\n",
            "Epoch 176/250\n",
            "17/17 [==============================] - 1s 49ms/step - loss: 0.7863 - sparse_categorical_accuracy: 0.9219 - val_loss: 1.0494 - val_sparse_categorical_accuracy: 0.8378\n",
            "Epoch 177/250\n",
            "17/17 [==============================] - 1s 50ms/step - loss: 0.7603 - sparse_categorical_accuracy: 0.9248 - val_loss: 0.9773 - val_sparse_categorical_accuracy: 0.8556\n",
            "Epoch 178/250\n",
            "17/17 [==============================] - 1s 50ms/step - loss: 0.7865 - sparse_categorical_accuracy: 0.9257 - val_loss: 0.9723 - val_sparse_categorical_accuracy: 0.8622\n",
            "Epoch 179/250\n",
            "17/17 [==============================] - 1s 50ms/step - loss: 0.7698 - sparse_categorical_accuracy: 0.9295 - val_loss: 0.8991 - val_sparse_categorical_accuracy: 0.8733\n",
            "Epoch 180/250\n",
            "17/17 [==============================] - 1s 51ms/step - loss: 0.7510 - sparse_categorical_accuracy: 0.9238 - val_loss: 1.0304 - val_sparse_categorical_accuracy: 0.8556\n",
            "Epoch 181/250\n",
            "17/17 [==============================] - 1s 52ms/step - loss: 0.7918 - sparse_categorical_accuracy: 0.9133 - val_loss: 0.9675 - val_sparse_categorical_accuracy: 0.8756\n",
            "Epoch 182/250\n",
            "17/17 [==============================] - 1s 50ms/step - loss: 0.8258 - sparse_categorical_accuracy: 0.9105 - val_loss: 1.0110 - val_sparse_categorical_accuracy: 0.8733\n",
            "Epoch 183/250\n",
            "17/17 [==============================] - 1s 50ms/step - loss: 0.9613 - sparse_categorical_accuracy: 0.8952 - val_loss: 1.2021 - val_sparse_categorical_accuracy: 0.8489\n",
            "Epoch 184/250\n",
            "17/17 [==============================] - 1s 51ms/step - loss: 0.9360 - sparse_categorical_accuracy: 0.9257 - val_loss: 1.0921 - val_sparse_categorical_accuracy: 0.8622\n",
            "Epoch 185/250\n",
            "17/17 [==============================] - 1s 51ms/step - loss: 0.8905 - sparse_categorical_accuracy: 0.9171 - val_loss: 1.0482 - val_sparse_categorical_accuracy: 0.8533\n",
            "Epoch 186/250\n",
            "17/17 [==============================] - 1s 51ms/step - loss: 0.8505 - sparse_categorical_accuracy: 0.9095 - val_loss: 1.0431 - val_sparse_categorical_accuracy: 0.8511\n",
            "Epoch 187/250\n",
            "17/17 [==============================] - 1s 51ms/step - loss: 0.7979 - sparse_categorical_accuracy: 0.9143 - val_loss: 1.0106 - val_sparse_categorical_accuracy: 0.8622\n",
            "Epoch 188/250\n",
            "17/17 [==============================] - 1s 85ms/step - loss: 0.8338 - sparse_categorical_accuracy: 0.9114 - val_loss: 0.9775 - val_sparse_categorical_accuracy: 0.8711\n",
            "Epoch 189/250\n",
            "17/17 [==============================] - 1s 50ms/step - loss: 0.8233 - sparse_categorical_accuracy: 0.9114 - val_loss: 0.9457 - val_sparse_categorical_accuracy: 0.8800\n",
            "Epoch 190/250\n",
            "17/17 [==============================] - 1s 52ms/step - loss: 0.8117 - sparse_categorical_accuracy: 0.9162 - val_loss: 0.9672 - val_sparse_categorical_accuracy: 0.8667\n",
            "Epoch 191/250\n",
            "17/17 [==============================] - 1s 50ms/step - loss: 0.7672 - sparse_categorical_accuracy: 0.9286 - val_loss: 0.9226 - val_sparse_categorical_accuracy: 0.8644\n",
            "Epoch 192/250\n",
            "17/17 [==============================] - 1s 49ms/step - loss: 0.7948 - sparse_categorical_accuracy: 0.9171 - val_loss: 0.8863 - val_sparse_categorical_accuracy: 0.8844\n",
            "Epoch 193/250\n",
            "17/17 [==============================] - 1s 50ms/step - loss: 0.7708 - sparse_categorical_accuracy: 0.9295 - val_loss: 0.9974 - val_sparse_categorical_accuracy: 0.8689\n",
            "Epoch 194/250\n",
            "17/17 [==============================] - 1s 51ms/step - loss: 0.8319 - sparse_categorical_accuracy: 0.9133 - val_loss: 0.9999 - val_sparse_categorical_accuracy: 0.8600\n",
            "Epoch 195/250\n",
            "17/17 [==============================] - 1s 51ms/step - loss: 0.8309 - sparse_categorical_accuracy: 0.9295 - val_loss: 1.0219 - val_sparse_categorical_accuracy: 0.8533\n",
            "Epoch 196/250\n",
            "17/17 [==============================] - 1s 51ms/step - loss: 0.8046 - sparse_categorical_accuracy: 0.9200 - val_loss: 0.9842 - val_sparse_categorical_accuracy: 0.8467\n",
            "Epoch 197/250\n",
            "17/17 [==============================] - 1s 50ms/step - loss: 0.7521 - sparse_categorical_accuracy: 0.9362 - val_loss: 1.0034 - val_sparse_categorical_accuracy: 0.8444\n",
            "Epoch 198/250\n",
            "17/17 [==============================] - 1s 50ms/step - loss: 0.7958 - sparse_categorical_accuracy: 0.9171 - val_loss: 0.9707 - val_sparse_categorical_accuracy: 0.8578\n",
            "Epoch 199/250\n",
            "17/17 [==============================] - 1s 49ms/step - loss: 0.7527 - sparse_categorical_accuracy: 0.9314 - val_loss: 0.9992 - val_sparse_categorical_accuracy: 0.8378\n",
            "Epoch 200/250\n",
            "17/17 [==============================] - 1s 51ms/step - loss: 0.7666 - sparse_categorical_accuracy: 0.9276 - val_loss: 1.0556 - val_sparse_categorical_accuracy: 0.8489\n",
            "Epoch 201/250\n",
            "17/17 [==============================] - 1s 49ms/step - loss: 0.8547 - sparse_categorical_accuracy: 0.9114 - val_loss: 1.0331 - val_sparse_categorical_accuracy: 0.8600\n",
            "Epoch 202/250\n",
            "17/17 [==============================] - 1s 50ms/step - loss: 0.9012 - sparse_categorical_accuracy: 0.9133 - val_loss: 1.1035 - val_sparse_categorical_accuracy: 0.8511\n",
            "Epoch 203/250\n",
            "17/17 [==============================] - 1s 50ms/step - loss: 0.7707 - sparse_categorical_accuracy: 0.9400 - val_loss: 1.0585 - val_sparse_categorical_accuracy: 0.8467\n",
            "Epoch 204/250\n",
            "17/17 [==============================] - 1s 49ms/step - loss: 0.8181 - sparse_categorical_accuracy: 0.9143 - val_loss: 1.1657 - val_sparse_categorical_accuracy: 0.8244\n",
            "Epoch 205/250\n",
            "17/17 [==============================] - 1s 49ms/step - loss: 0.8617 - sparse_categorical_accuracy: 0.9219 - val_loss: 1.0522 - val_sparse_categorical_accuracy: 0.8711\n",
            "Epoch 206/250\n",
            "17/17 [==============================] - 1s 50ms/step - loss: 0.8775 - sparse_categorical_accuracy: 0.9305 - val_loss: 1.1511 - val_sparse_categorical_accuracy: 0.8533\n",
            "Epoch 207/250\n",
            "17/17 [==============================] - 1s 50ms/step - loss: 0.8598 - sparse_categorical_accuracy: 0.9314 - val_loss: 1.0991 - val_sparse_categorical_accuracy: 0.8600\n",
            "Epoch 208/250\n",
            "17/17 [==============================] - 1s 50ms/step - loss: 0.8312 - sparse_categorical_accuracy: 0.9257 - val_loss: 1.0580 - val_sparse_categorical_accuracy: 0.8622\n",
            "Epoch 209/250\n",
            "17/17 [==============================] - 1s 49ms/step - loss: 0.8151 - sparse_categorical_accuracy: 0.9238 - val_loss: 1.0973 - val_sparse_categorical_accuracy: 0.8356\n",
            "Epoch 210/250\n",
            "17/17 [==============================] - 1s 84ms/step - loss: 0.8117 - sparse_categorical_accuracy: 0.9295 - val_loss: 1.1329 - val_sparse_categorical_accuracy: 0.8511\n",
            "Epoch 211/250\n",
            "17/17 [==============================] - 1s 53ms/step - loss: 0.9438 - sparse_categorical_accuracy: 0.9200 - val_loss: 1.4541 - val_sparse_categorical_accuracy: 0.8644\n",
            "Epoch 212/250\n",
            "17/17 [==============================] - 1s 53ms/step - loss: 1.4848 - sparse_categorical_accuracy: 0.9029 - val_loss: 1.7503 - val_sparse_categorical_accuracy: 0.8689\n",
            "Epoch 213/250\n",
            "17/17 [==============================] - 1s 49ms/step - loss: 1.5498 - sparse_categorical_accuracy: 0.9238 - val_loss: 1.6253 - val_sparse_categorical_accuracy: 0.8778\n",
            "Epoch 214/250\n",
            "17/17 [==============================] - 1s 49ms/step - loss: 1.3607 - sparse_categorical_accuracy: 0.9162 - val_loss: 1.3892 - val_sparse_categorical_accuracy: 0.8689\n",
            "Epoch 215/250\n",
            "17/17 [==============================] - 1s 50ms/step - loss: 1.1333 - sparse_categorical_accuracy: 0.9248 - val_loss: 1.2847 - val_sparse_categorical_accuracy: 0.8511\n",
            "Epoch 216/250\n",
            "17/17 [==============================] - 1s 51ms/step - loss: 1.0213 - sparse_categorical_accuracy: 0.9324 - val_loss: 1.2200 - val_sparse_categorical_accuracy: 0.8600\n",
            "Epoch 217/250\n",
            "17/17 [==============================] - 1s 52ms/step - loss: 0.9503 - sparse_categorical_accuracy: 0.9381 - val_loss: 1.2009 - val_sparse_categorical_accuracy: 0.8533\n",
            "Epoch 218/250\n",
            "17/17 [==============================] - 1s 53ms/step - loss: 0.9291 - sparse_categorical_accuracy: 0.9248 - val_loss: 1.0802 - val_sparse_categorical_accuracy: 0.8511\n",
            "Epoch 219/250\n",
            "17/17 [==============================] - 1s 51ms/step - loss: 0.8679 - sparse_categorical_accuracy: 0.9238 - val_loss: 1.1149 - val_sparse_categorical_accuracy: 0.8511\n",
            "Epoch 220/250\n",
            "17/17 [==============================] - 1s 50ms/step - loss: 0.8738 - sparse_categorical_accuracy: 0.9162 - val_loss: 1.0730 - val_sparse_categorical_accuracy: 0.8578\n",
            "Epoch 221/250\n",
            "17/17 [==============================] - 1s 50ms/step - loss: 0.8689 - sparse_categorical_accuracy: 0.9267 - val_loss: 1.0935 - val_sparse_categorical_accuracy: 0.8578\n",
            "Epoch 222/250\n",
            "17/17 [==============================] - 1s 50ms/step - loss: 0.8679 - sparse_categorical_accuracy: 0.9314 - val_loss: 1.1143 - val_sparse_categorical_accuracy: 0.8467\n",
            "Epoch 223/250\n",
            "17/17 [==============================] - 1s 51ms/step - loss: 0.8788 - sparse_categorical_accuracy: 0.9248 - val_loss: 1.0788 - val_sparse_categorical_accuracy: 0.8600\n",
            "Epoch 224/250\n",
            "17/17 [==============================] - 1s 51ms/step - loss: 0.9137 - sparse_categorical_accuracy: 0.9200 - val_loss: 1.1406 - val_sparse_categorical_accuracy: 0.8689\n",
            "Epoch 225/250\n",
            "17/17 [==============================] - 1s 50ms/step - loss: 0.8833 - sparse_categorical_accuracy: 0.9276 - val_loss: 1.0981 - val_sparse_categorical_accuracy: 0.8467\n",
            "Epoch 226/250\n",
            "17/17 [==============================] - 1s 49ms/step - loss: 0.8577 - sparse_categorical_accuracy: 0.9210 - val_loss: 1.0565 - val_sparse_categorical_accuracy: 0.8622\n",
            "Epoch 227/250\n",
            "17/17 [==============================] - 1s 49ms/step - loss: 0.8945 - sparse_categorical_accuracy: 0.9210 - val_loss: 1.1856 - val_sparse_categorical_accuracy: 0.8467\n",
            "Epoch 228/250\n",
            "17/17 [==============================] - 1s 50ms/step - loss: 0.9362 - sparse_categorical_accuracy: 0.9248 - val_loss: 1.2013 - val_sparse_categorical_accuracy: 0.8444\n",
            "Epoch 229/250\n",
            "17/17 [==============================] - 1s 53ms/step - loss: 0.8689 - sparse_categorical_accuracy: 0.9343 - val_loss: 1.0776 - val_sparse_categorical_accuracy: 0.8667\n",
            "Epoch 230/250\n",
            "17/17 [==============================] - 1s 49ms/step - loss: 0.8564 - sparse_categorical_accuracy: 0.9314 - val_loss: 1.0685 - val_sparse_categorical_accuracy: 0.8556\n",
            "Epoch 231/250\n",
            "17/17 [==============================] - 1s 50ms/step - loss: 0.8409 - sparse_categorical_accuracy: 0.9267 - val_loss: 1.0281 - val_sparse_categorical_accuracy: 0.8733\n",
            "Epoch 232/250\n",
            "17/17 [==============================] - 1s 51ms/step - loss: 0.8284 - sparse_categorical_accuracy: 0.9286 - val_loss: 1.0951 - val_sparse_categorical_accuracy: 0.8644\n",
            "Epoch 233/250\n",
            "17/17 [==============================] - 1s 51ms/step - loss: 1.0117 - sparse_categorical_accuracy: 0.9181 - val_loss: 1.2968 - val_sparse_categorical_accuracy: 0.8600\n",
            "Epoch 234/250\n",
            "17/17 [==============================] - 1s 51ms/step - loss: 1.1506 - sparse_categorical_accuracy: 0.9181 - val_loss: 1.3593 - val_sparse_categorical_accuracy: 0.8622\n",
            "Epoch 235/250\n",
            "17/17 [==============================] - 1s 52ms/step - loss: 1.0923 - sparse_categorical_accuracy: 0.9133 - val_loss: 1.2775 - val_sparse_categorical_accuracy: 0.8400\n",
            "Epoch 236/250\n",
            "17/17 [==============================] - 1s 51ms/step - loss: 0.9826 - sparse_categorical_accuracy: 0.9295 - val_loss: 1.1874 - val_sparse_categorical_accuracy: 0.8556\n",
            "Epoch 237/250\n",
            "17/17 [==============================] - 1s 50ms/step - loss: 0.9619 - sparse_categorical_accuracy: 0.9200 - val_loss: 1.0421 - val_sparse_categorical_accuracy: 0.8689\n",
            "Epoch 238/250\n",
            "17/17 [==============================] - 1s 51ms/step - loss: 0.8411 - sparse_categorical_accuracy: 0.9305 - val_loss: 1.0797 - val_sparse_categorical_accuracy: 0.8467\n",
            "Epoch 239/250\n",
            "17/17 [==============================] - 1s 50ms/step - loss: 0.7614 - sparse_categorical_accuracy: 0.9371 - val_loss: 0.9592 - val_sparse_categorical_accuracy: 0.8622\n",
            "Epoch 240/250\n",
            "17/17 [==============================] - 1s 52ms/step - loss: 0.7116 - sparse_categorical_accuracy: 0.9381 - val_loss: 0.9621 - val_sparse_categorical_accuracy: 0.8667\n",
            "Epoch 241/250\n",
            "17/17 [==============================] - 1s 52ms/step - loss: 0.7669 - sparse_categorical_accuracy: 0.9286 - val_loss: 1.0548 - val_sparse_categorical_accuracy: 0.8467\n",
            "Epoch 242/250\n",
            "17/17 [==============================] - 1s 49ms/step - loss: 0.8421 - sparse_categorical_accuracy: 0.9248 - val_loss: 1.0365 - val_sparse_categorical_accuracy: 0.8644\n",
            "Epoch 243/250\n",
            "17/17 [==============================] - 1s 53ms/step - loss: 0.8846 - sparse_categorical_accuracy: 0.9210 - val_loss: 1.0736 - val_sparse_categorical_accuracy: 0.8600\n",
            "Epoch 244/250\n",
            "17/17 [==============================] - 1s 52ms/step - loss: 0.8847 - sparse_categorical_accuracy: 0.9295 - val_loss: 1.2212 - val_sparse_categorical_accuracy: 0.8533\n",
            "Epoch 245/250\n",
            "17/17 [==============================] - 1s 52ms/step - loss: 0.9587 - sparse_categorical_accuracy: 0.9286 - val_loss: 1.1859 - val_sparse_categorical_accuracy: 0.8533\n",
            "Epoch 246/250\n",
            "17/17 [==============================] - 1s 52ms/step - loss: 0.9205 - sparse_categorical_accuracy: 0.9305 - val_loss: 1.0791 - val_sparse_categorical_accuracy: 0.8733\n",
            "Epoch 247/250\n",
            "17/17 [==============================] - 1s 52ms/step - loss: 0.8933 - sparse_categorical_accuracy: 0.9286 - val_loss: 1.0996 - val_sparse_categorical_accuracy: 0.8622\n",
            "Epoch 248/250\n",
            "17/17 [==============================] - 1s 52ms/step - loss: 0.9209 - sparse_categorical_accuracy: 0.9267 - val_loss: 1.0674 - val_sparse_categorical_accuracy: 0.8711\n",
            "Epoch 249/250\n",
            "17/17 [==============================] - 1s 53ms/step - loss: 0.8792 - sparse_categorical_accuracy: 0.9314 - val_loss: 1.1059 - val_sparse_categorical_accuracy: 0.8556\n",
            "Epoch 250/250\n",
            "17/17 [==============================] - 1s 51ms/step - loss: 0.7733 - sparse_categorical_accuracy: 0.9371 - val_loss: 1.1097 - val_sparse_categorical_accuracy: 0.8511\n"
          ],
          "name": "stdout"
        }
      ]
    },
    {
      "cell_type": "code",
      "metadata": {
        "colab": {
          "base_uri": "https://localhost:8080/",
          "height": 545
        },
        "id": "D24pwLvjoRB_",
        "outputId": "faa6ea6a-1570-4374-b4d5-b489ef245896"
      },
      "source": [
        "#plotting loss graph\n",
        "plt.figure()\n",
        "plt.title('Loss')\n",
        "plt.plot(cnn_history.history['loss'])\n",
        "plt.plot(cnn_history.history['val_loss'])\n",
        "plt.legend(['train', 'test'])\n",
        "plt.ylim([0, 5])\n",
        "plt.show()\n",
        "\n",
        "#plotting accuracy graph\n",
        "plt.figure()\n",
        "plt.title('Accuracy')\n",
        "plt.plot(cnn_history.history['sparse_categorical_accuracy'])\n",
        "plt.plot(cnn_history.history['val_sparse_categorical_accuracy'])\n",
        "plt.legend(['train', 'test'])\n",
        "plt.ylim([0, 1])\n",
        "plt.show()"
      ],
      "execution_count": 139,
      "outputs": [
        {
          "output_type": "display_data",
          "data": {
            "image/png": "[encoded data removed]",
            "text/plain": [
              "<Figure size 432x288 with 1 Axes>"
            ]
          },
          "metadata": {
            "tags": [],
            "needs_background": "light"
          }
        },
        {
          "output_type": "display_data",
          "data": {
            "image/png": "[encoded data removed]",
            "text/plain": [
              "<Figure size 432x288 with 1 Axes>"
            ]
          },
          "metadata": {
            "tags": [],
            "needs_background": "light"
          }
        }
      ]
    },
    {
      "cell_type": "code",
      "metadata": {
        "id": "WWFHHQrFGJWH"
      },
      "source": [
        "predictions = cnn.predict(X_test) # softmax probabilities\n",
        "round_pred = np.round(predictions) # one-hot encoding"
      ],
      "execution_count": 140,
      "outputs": []
    },
    {
      "cell_type": "code",
      "metadata": {
        "id": "znqlF6KmGQUp"
      },
      "source": [
        "simp_pred = tf.argmax(round_pred, axis = 1)\n",
        "# simp_labels = tf.argmax(y_test, axis = 1) # use only if one-hot encoded"
      ],
      "execution_count": 141,
      "outputs": []
    },
    {
      "cell_type": "code",
      "metadata": {
        "id": "RPWhVRqhHhTY"
      },
      "source": [
        "confusion_matrix = tf.math.confusion_matrix(y_test, simp_pred, num_classes=3)"
      ],
      "execution_count": 142,
      "outputs": []
    },
    {
      "cell_type": "code",
      "metadata": {
        "colab": {
          "base_uri": "https://localhost:8080/",
          "height": 100
        },
        "id": "LIm_GP3IHxtB",
        "outputId": "2993c085-fe30-47f9-826e-8f95e14210a9"
      },
      "source": [
        "print(confusion_matrix)\n",
        "'''\n",
        "cm = 0\n",
        "hs = 1\n",
        "hc = 2\n",
        "'''"
      ],
      "execution_count": 143,
      "outputs": [
        {
          "output_type": "stream",
          "text": [
            "tf.Tensor(\n",
            "[[104  16  21]\n",
            " [  9 135   9]\n",
            " [  3  12 141]], shape=(3, 3), dtype=int32)\n"
          ],
          "name": "stdout"
        },
        {
          "output_type": "execute_result",
          "data": {
            "application/vnd.google.colaboratory.intrinsic+json": {
              "type": "string"
            },
            "text/plain": [
              "'\\ncm = 0\\nhs = 1\\nhc = 2\\n'"
            ]
          },
          "metadata": {
            "tags": []
          },
          "execution_count": 143
        }
      ]
    },
    {
      "cell_type": "code",
      "metadata": {
        "colab": {
          "base_uri": "https://localhost:8080/"
        },
        "id": "3HxteyHbCcSt",
        "outputId": "9ab68940-fe0e-44dd-d62a-133419c407a7"
      },
      "source": [
        "# accuracy: (tp + tn) / (p + n)\n",
        "accuracy = accuracy_score(y_test, simp_pred)\n",
        "print('Accuracy: %f' % accuracy)\n",
        "# precision tp / (tp + fp)\n",
        "precision = precision_score(y_test, simp_pred, labels=[0,1,2], average='macro')\n",
        "print('Precision: %f' % precision)\n",
        "# recall: tp / (tp + fn)\n",
        "recall = recall_score(y_test, simp_pred, labels=[0,1,2], average='macro')\n",
        "print('Recall: %f' % recall)\n",
        "# f1: 2 tp / (2 tp + fp + fn)\n",
        "f1 = f1_score(y_test, simp_pred, labels=[0,1,2], average='macro')\n",
        "print('F1 score: %f' % f1)"
      ],
      "execution_count": 144,
      "outputs": [
        {
          "output_type": "stream",
          "text": [
            "Accuracy: 0.844444\n",
            "Precision: 0.849778\n",
            "Recall: 0.841263\n",
            "F1 score: 0.842051\n"
          ],
          "name": "stdout"
        }
      ]
    }
  ]
}