{
  "nbformat": 4,
  "nbformat_minor": 0,
  "metadata": {
    "accelerator": "GPU",
    "colab": {
      "name": "birds classify.ipynb",
      "provenance": []
    },
    "kernelspec": {
      "display_name": "Python 3",
      "name": "python3"
    },
    "language_info": {
      "name": "python"
    }
  },
  "cells": [
    {
      "cell_type": "code",
      "metadata": {
        "id": "T051Jj_mZGj_"
      },
      "source": [
        "!unzip dataset100.zip"
      ],
      "execution_count": null,
      "outputs": []
    },
    {
      "cell_type": "markdown",
      "metadata": {
        "id": "l-ssWkQQamvU"
      },
      "source": [
        "# Imports"
      ]
    },
    {
      "cell_type": "code",
      "metadata": {
        "id": "bSX-sBX8aoiS"
      },
      "source": [
        "import os\n",
        "import numpy as np\n",
        "import cv2\n",
        "from tensorflow.keras import datasets, layers, models, regularizers\n",
        "from keras.utils import np_utils\n",
        "from sklearn.model_selection import train_test_split\n",
        "from keras.utils import np_utils\n",
        "import matplotlib.pyplot as plt"
      ],
      "execution_count": null,
      "outputs": []
    },
    {
      "cell_type": "markdown",
      "metadata": {
        "id": "TZMR0cEBapV5"
      },
      "source": [
        "# Utils"
      ]
    },
    {
      "cell_type": "code",
      "metadata": {
        "id": "3cwlE_crauV8"
      },
      "source": [
        "def load_dataset(size):\n",
        "  if size == 100:\n",
        "\n",
        "    cm = [x for x in os.walk('CM100')][0][2]\n",
        "    hs = [x for x in os.walk('HS100')][0][2]\n",
        "    hc = [x for x in os.walk('HC100')][0][2]\n",
        "\n",
        "  elif size == 200:\n",
        "    cm = [x for x in os.walk('CM200')][0][2]\n",
        "    hs = [x for x in os.walk('HS200')][0][2]\n",
        "    hc = [x for x in os.walk('HC200')][0][2]\n",
        "  \n",
        "  else:\n",
        "    return 'invalid size'\n",
        "  \n",
        "  cm = ['CM100/' + cm[x] for x in range(len(cm))]\n",
        "  hs = ['HS100/' + hs[x] for x in range(len(hs))]\n",
        "  hc = ['HC100/' + hc[x] for x in range(len(hc))]\n",
        "  \n",
        "  cm_label = [0]*len(cm)\n",
        "  hs_label = [1]*len(hs)\n",
        "  hc_label = [2]*len(hc)\n",
        "\n",
        "  dataset = cm+hs+hc\n",
        "  labels = cm_label + hs_label + hc_label\n",
        "\n",
        "  return dataset, labels"
      ],
      "execution_count": null,
      "outputs": []
    },
    {
      "cell_type": "code",
      "metadata": {
        "id": "JzfTjYXWLKKV"
      },
      "source": [
        "def read_images(dataset):\n",
        "  images = []\n",
        "  \n",
        "  for filepath in dataset:\n",
        "    images.append(cv2.imread(filepath))\n",
        "  \n",
        "  return images"
      ],
      "execution_count": null,
      "outputs": []
    },
    {
      "cell_type": "code",
      "metadata": {
        "id": "tC8BSspxbCQ-"
      },
      "source": [
        "dataset, labels = load_dataset(100)"
      ],
      "execution_count": null,
      "outputs": []
    },
    {
      "cell_type": "code",
      "metadata": {
        "id": "9W_cpP1ibx68"
      },
      "source": [
        "dataset = read_images(dataset)"
      ],
      "execution_count": null,
      "outputs": []
    },
    {
      "cell_type": "code",
      "metadata": {
        "id": "QUlBh9Faf1ik"
      },
      "source": [
        "X_train, X_test, y_train, y_test = train_test_split(dataset, labels, test_size=0.3, random_state=42)"
      ],
      "execution_count": null,
      "outputs": []
    },
    {
      "cell_type": "code",
      "metadata": {
        "id": "9pmWVCEKW6MN"
      },
      "source": [
        "X_train = np.array(X_train) / 255.0\n",
        "X_test = np.array(X_test) / 255.0\n",
        "y_train = np.array(y_train)\n",
        "y_test = np.array(y_test)"
      ],
      "execution_count": null,
      "outputs": []
    },
    {
      "cell_type": "code",
      "metadata": {
        "colab": {
          "base_uri": "https://localhost:8080/"
        },
        "id": "Z9DTfRTvjRdx",
        "outputId": "6f86954d-1239-4448-df12-93ec9fd8283f"
      },
      "source": [
        "X_train[0]"
      ],
      "execution_count": null,
      "outputs": [
        {
          "output_type": "execute_result",
          "data": {
            "text/plain": [
              "array([[[0.61176471, 0.49411765, 0.38039216],\n",
              "        [0.61176471, 0.49411765, 0.38039216],\n",
              "        [0.61568627, 0.49803922, 0.38431373],\n",
              "        ...,\n",
              "        [0.61568627, 0.4745098 , 0.35686275],\n",
              "        [0.61568627, 0.4745098 , 0.35686275],\n",
              "        [0.61568627, 0.4745098 , 0.35686275]],\n",
              "\n",
              "       [[0.61176471, 0.49411765, 0.38039216],\n",
              "        [0.61568627, 0.49803922, 0.38431373],\n",
              "        [0.61960784, 0.50196078, 0.38823529],\n",
              "        ...,\n",
              "        [0.61568627, 0.4745098 , 0.35686275],\n",
              "        [0.61568627, 0.4745098 , 0.35686275],\n",
              "        [0.61568627, 0.4745098 , 0.35686275]],\n",
              "\n",
              "       [[0.61568627, 0.49803922, 0.38431373],\n",
              "        [0.61568627, 0.49803922, 0.38431373],\n",
              "        [0.61960784, 0.50196078, 0.38823529],\n",
              "        ...,\n",
              "        [0.60784314, 0.4745098 , 0.35686275],\n",
              "        [0.60784314, 0.4745098 , 0.35686275],\n",
              "        [0.60784314, 0.4745098 , 0.35686275]],\n",
              "\n",
              "       ...,\n",
              "\n",
              "       [[0.58823529, 0.55294118, 0.54117647],\n",
              "        [0.56862745, 0.53333333, 0.52156863],\n",
              "        [0.5254902 , 0.49019608, 0.47843137],\n",
              "        ...,\n",
              "        [0.6       , 0.6       , 0.6       ],\n",
              "        [0.60392157, 0.60392157, 0.60392157],\n",
              "        [0.61176471, 0.61176471, 0.61176471]],\n",
              "\n",
              "       [[0.66666667, 0.63137255, 0.61960784],\n",
              "        [0.63921569, 0.60392157, 0.59215686],\n",
              "        [0.6       , 0.56470588, 0.55294118],\n",
              "        ...,\n",
              "        [0.57254902, 0.57254902, 0.57254902],\n",
              "        [0.57647059, 0.57647059, 0.57647059],\n",
              "        [0.58039216, 0.58039216, 0.58039216]],\n",
              "\n",
              "       [[0.10196078, 0.06666667, 0.05490196],\n",
              "        [0.09019608, 0.05490196, 0.04313725],\n",
              "        [0.0745098 , 0.03921569, 0.02745098],\n",
              "        ...,\n",
              "        [0.07058824, 0.07058824, 0.07058824],\n",
              "        [0.0745098 , 0.0745098 , 0.0745098 ],\n",
              "        [0.07843137, 0.07843137, 0.07843137]]])"
            ]
          },
          "metadata": {
            "tags": []
          },
          "execution_count": 9
        }
      ]
    },
    {
      "cell_type": "code",
      "metadata": {
        "id": "iZFs53SrMOwS"
      },
      "source": [
        "y_train, y_test = np_utils.to_categorical(y_train), np_utils.to_categorical(y_test)"
      ],
      "execution_count": null,
      "outputs": []
    },
    {
      "cell_type": "markdown",
      "metadata": {
        "id": "T9nBD9bgVudc"
      },
      "source": [
        "# Define Model"
      ]
    },
    {
      "cell_type": "code",
      "metadata": {
        "id": "Kd2o95G0VyD_"
      },
      "source": [
        "#creating the network architecture\n",
        "cnn = models.Sequential([\n",
        "    layers.Conv2D(filters=512, kernel_size=(3, 3), activation='relu', padding='same', input_shape=(100, 100, 3)),\n",
        "    layers.Conv2D(filters=512, kernel_size=(3, 3), activation='relu', padding='same'),\n",
        "    layers.MaxPooling2D((3, 3)),\n",
        "    \n",
        "    layers.Dropout(0.6),\n",
        "    \n",
        "    layers.Conv2D(filters=256, kernel_size=(3, 3), activation='relu', padding='same'),\n",
        "    layers.Conv2D(filters=256, kernel_size=(3, 3), activation='relu', padding='same'),\n",
        "    layers.MaxPooling2D((2, 2)),\n",
        "    \n",
        "    layers.Dropout(0.5),\n",
        "    \n",
        "    layers.Flatten(),\n",
        "    layers.Dense(512, activation='relu'),\n",
        "    layers.Dropout(0.3),\n",
        "    layers.Dense(256, activation='relu'),\n",
        "    layers.Dense(3, activation='softmax')\n",
        "])\n",
        "\n",
        "cnn.compile(optimizer='sgd',\n",
        "              loss='categorical_crossentropy',\n",
        "              metrics=['accuracy'])"
      ],
      "execution_count": null,
      "outputs": []
    },
    {
      "cell_type": "code",
      "metadata": {
        "id": "wxt2kz-mhxft"
      },
      "source": [
        "#creating the network architecture\n",
        "cnn = models.Sequential([\n",
        "    layers.Conv2D(filters=512, kernel_size=(3, 3), activation='relu', input_shape=(100, 100, 3)),\n",
        "    layers.Conv2D(filters=256, kernel_size=(3, 3), activation='relu'),\n",
        "    layers.MaxPooling2D((3, 3)),\n",
        "    \n",
        "    layers.Dropout(0.6),\n",
        "\n",
        "    # layers.Conv2D(filters=512, kernel_size=(3, 3), activation='relu'),\n",
        "    # layers.Conv2D(filters=256, kernel_size=(3, 3), activation='relu'),\n",
        "    # layers.MaxPooling2D((3, 3)),\n",
        "\n",
        "    # layers.Dropout(0.6),\n",
        "    \n",
        "    layers.Flatten(),\n",
        "    layers.Dense(512, activation='relu', kernel_regularizer=regularizers.l2(0.04)),\n",
        "    layers.Dropout(0.3),\n",
        "    layers.Dense(256, activation='relu', kernel_regularizer=regularizers.l2(0.03)),\n",
        "    layers.Dropout(0.3),\n",
        "    layers.Dense(128, activation='relu', kernel_regularizer=regularizers.l2(0.02)),\n",
        "    layers.Dropout(0.3),\n",
        "    layers.Dense(3, activation='softmax')\n",
        "])\n",
        "\n",
        "cnn.compile(optimizer='adam',\n",
        "              loss='categorical_crossentropy',\n",
        "              metrics=['accuracy'])"
      ],
      "execution_count": null,
      "outputs": []
    },
    {
      "cell_type": "code",
      "metadata": {
        "colab": {
          "base_uri": "https://localhost:8080/"
        },
        "id": "hOLbAoNfYOUu",
        "outputId": "281bf3e9-71d5-4b80-ab02-2ec59dd9ce04"
      },
      "source": [
        "cnn.summary()"
      ],
      "execution_count": null,
      "outputs": [
        {
          "output_type": "stream",
          "text": [
            "Model: \"sequential_4\"\n",
            "_________________________________________________________________\n",
            "Layer (type)                 Output Shape              Param #   \n",
            "=================================================================\n",
            "conv2d_16 (Conv2D)           (None, 98, 98, 512)       14336     \n",
            "_________________________________________________________________\n",
            "conv2d_17 (Conv2D)           (None, 96, 96, 256)       1179904   \n",
            "_________________________________________________________________\n",
            "max_pooling2d_8 (MaxPooling2 (None, 32, 32, 256)       0         \n",
            "_________________________________________________________________\n",
            "dropout_17 (Dropout)         (None, 32, 32, 256)       0         \n",
            "_________________________________________________________________\n",
            "flatten_4 (Flatten)          (None, 262144)            0         \n",
            "_________________________________________________________________\n",
            "dense_15 (Dense)             (None, 512)               134218240 \n",
            "_________________________________________________________________\n",
            "dropout_18 (Dropout)         (None, 512)               0         \n",
            "_________________________________________________________________\n",
            "dense_16 (Dense)             (None, 256)               131328    \n",
            "_________________________________________________________________\n",
            "dropout_19 (Dropout)         (None, 256)               0         \n",
            "_________________________________________________________________\n",
            "dense_17 (Dense)             (None, 128)               32896     \n",
            "_________________________________________________________________\n",
            "dropout_20 (Dropout)         (None, 128)               0         \n",
            "_________________________________________________________________\n",
            "dense_18 (Dense)             (None, 3)                 387       \n",
            "=================================================================\n",
            "Total params: 135,577,091\n",
            "Trainable params: 135,577,091\n",
            "Non-trainable params: 0\n",
            "_________________________________________________________________\n"
          ],
          "name": "stdout"
        }
      ]
    },
    {
      "cell_type": "code",
      "metadata": {
        "colab": {
          "background_save": true,
          "base_uri": "https://localhost:8080/"
        },
        "id": "2xGzReVpVzP6",
        "outputId": "882bc7ed-3972-4394-86a4-256c454c8d5c"
      },
      "source": [
        "cnn_history = cnn.fit(X_train, y_train, epochs=30, batch_size=32, validation_data=(X_test, y_test))"
      ],
      "execution_count": null,
      "outputs": [
        {
          "output_type": "stream",
          "text": [
            "Epoch 1/30\n",
            "35/35 [==============================] - 12s 309ms/step - loss: 20.4202 - accuracy: 0.3558 - val_loss: 8.7381 - val_accuracy: 0.3482\n",
            "Epoch 2/30\n",
            "35/35 [==============================] - 11s 309ms/step - loss: 6.4081 - accuracy: 0.4097 - val_loss: 4.9714 - val_accuracy: 0.4310\n",
            "Epoch 3/30\n",
            "35/35 [==============================] - 11s 305ms/step - loss: 4.1956 - accuracy: 0.4681 - val_loss: 3.5145 - val_accuracy: 0.5626\n",
            "Epoch 4/30\n",
            "35/35 [==============================] - 10s 300ms/step - loss: 3.2242 - accuracy: 0.5794 - val_loss: 2.9158 - val_accuracy: 0.5796\n",
            "Epoch 5/30\n",
            "35/35 [==============================] - 10s 295ms/step - loss: 2.6989 - accuracy: 0.5839 - val_loss: 2.3352 - val_accuracy: 0.6051\n",
            "Epoch 6/30\n",
            "35/35 [==============================] - 10s 294ms/step - loss: 2.2244 - accuracy: 0.6068 - val_loss: 2.0130 - val_accuracy: 0.6476\n",
            "Epoch 7/30\n",
            "35/35 [==============================] - 10s 294ms/step - loss: 1.9592 - accuracy: 0.6432 - val_loss: 1.7439 - val_accuracy: 0.7134\n",
            "Epoch 8/30\n",
            "35/35 [==============================] - 10s 295ms/step - loss: 1.8169 - accuracy: 0.6451 - val_loss: 1.6806 - val_accuracy: 0.6645\n",
            "Epoch 9/30\n",
            "35/35 [==============================] - 10s 297ms/step - loss: 1.6486 - accuracy: 0.6661 - val_loss: 1.6665 - val_accuracy: 0.6667\n",
            "Epoch 10/30\n",
            "35/35 [==============================] - 10s 298ms/step - loss: 1.6613 - accuracy: 0.6359 - val_loss: 1.5610 - val_accuracy: 0.6858\n",
            "Epoch 11/30\n",
            "35/35 [==============================] - 10s 298ms/step - loss: 1.4702 - accuracy: 0.6843 - val_loss: 1.3042 - val_accuracy: 0.7389\n",
            "Epoch 12/30\n",
            "35/35 [==============================] - 10s 298ms/step - loss: 1.3923 - accuracy: 0.6788 - val_loss: 1.2497 - val_accuracy: 0.7410\n",
            "Epoch 13/30\n",
            "35/35 [==============================] - 10s 298ms/step - loss: 1.2673 - accuracy: 0.7135 - val_loss: 1.1643 - val_accuracy: 0.7389\n",
            "Epoch 14/30\n",
            "35/35 [==============================] - 10s 297ms/step - loss: 1.2806 - accuracy: 0.6953 - val_loss: 1.2397 - val_accuracy: 0.7389\n",
            "Epoch 15/30\n",
            "35/35 [==============================] - 10s 296ms/step - loss: 1.2995 - accuracy: 0.7035 - val_loss: 1.2373 - val_accuracy: 0.7325\n",
            "Epoch 16/30\n",
            "35/35 [==============================] - 10s 296ms/step - loss: 1.2811 - accuracy: 0.7181 - val_loss: 1.2024 - val_accuracy: 0.7580\n",
            "Epoch 17/30\n",
            "35/35 [==============================] - 10s 296ms/step - loss: 1.2214 - accuracy: 0.7327 - val_loss: 1.3050 - val_accuracy: 0.7516\n",
            "Epoch 18/30\n",
            "35/35 [==============================] - 10s 296ms/step - loss: 1.2603 - accuracy: 0.7299 - val_loss: 1.1626 - val_accuracy: 0.7558\n",
            "Epoch 19/30\n",
            "35/35 [==============================] - 10s 296ms/step - loss: 1.2616 - accuracy: 0.7263 - val_loss: 1.1644 - val_accuracy: 0.7558\n",
            "Epoch 20/30\n",
            "35/35 [==============================] - 10s 296ms/step - loss: 1.1801 - accuracy: 0.7454 - val_loss: 1.1143 - val_accuracy: 0.7665\n",
            "Epoch 21/30\n",
            "35/35 [==============================] - 10s 296ms/step - loss: 1.1997 - accuracy: 0.7308 - val_loss: 1.1724 - val_accuracy: 0.7643\n",
            "Epoch 22/30\n",
            "35/35 [==============================] - 10s 295ms/step - loss: 1.1821 - accuracy: 0.7655 - val_loss: 1.2013 - val_accuracy: 0.7771\n",
            "Epoch 23/30\n",
            "35/35 [==============================] - 10s 297ms/step - loss: 1.1427 - accuracy: 0.7819 - val_loss: 1.1636 - val_accuracy: 0.7580\n",
            "Epoch 24/30\n",
            "35/35 [==============================] - 10s 296ms/step - loss: 1.1335 - accuracy: 0.7746 - val_loss: 1.2088 - val_accuracy: 0.7473\n",
            "Epoch 25/30\n",
            "35/35 [==============================] - 10s 296ms/step - loss: 1.1623 - accuracy: 0.7765 - val_loss: 1.1711 - val_accuracy: 0.7834\n",
            "Epoch 26/30\n",
            "35/35 [==============================] - 10s 295ms/step - loss: 1.2198 - accuracy: 0.7847 - val_loss: 1.3182 - val_accuracy: 0.7261\n",
            "Epoch 27/30\n",
            "35/35 [==============================] - 10s 296ms/step - loss: 1.1990 - accuracy: 0.7828 - val_loss: 1.2947 - val_accuracy: 0.7558\n",
            "Epoch 28/30\n",
            "35/35 [==============================] - 10s 297ms/step - loss: 1.2317 - accuracy: 0.7947 - val_loss: 1.4230 - val_accuracy: 0.7261\n",
            "Epoch 29/30\n",
            "35/35 [==============================] - 10s 297ms/step - loss: 1.2611 - accuracy: 0.7856 - val_loss: 1.1749 - val_accuracy: 0.7834\n",
            "Epoch 30/30\n",
            "35/35 [==============================] - 10s 297ms/step - loss: 1.2049 - accuracy: 0.7892 - val_loss: 1.3264 - val_accuracy: 0.7537\n"
          ],
          "name": "stdout"
        }
      ]
    },
    {
      "cell_type": "code",
      "metadata": {
        "colab": {
          "base_uri": "https://localhost:8080/",
          "height": 545
        },
        "id": "mXFmWXYrWIp9",
        "outputId": "19d16528-6b77-4c8b-d25c-b2e44ae23b83"
      },
      "source": [
        "#plotting loss graph\n",
        "plt.figure()\n",
        "plt.title('Loss')\n",
        "plt.plot(cnn_history.history['loss'])\n",
        "plt.plot(cnn_history.history['val_loss'])\n",
        "plt.legend(['train', 'test'])\n",
        "plt.show()\n",
        "\n",
        "#plotting accuracy graph\n",
        "plt.figure()\n",
        "plt.title('Accuracy')\n",
        "plt.plot(cnn_history.history['accuracy'])\n",
        "plt.plot(cnn_history.history['val_accuracy'])\n",
        "plt.legend(['train', 'test'])\n",
        "plt.show()"
      ],
      "execution_count": null,
      "outputs": [
        {
          "output_type": "display_data",
          "data": {
            "image/png": "[encoded data removed]",
            "text/plain": [
              "<Figure size 432x288 with 1 Axes>"
            ]
          },
          "metadata": {
            "tags": []
          }
        },
        {
          "output_type": "display_data",
          "data": {
            "image/png": "[encoded data removed]",
            "text/plain": [
              "<Figure size 432x288 with 1 Axes>"
            ]
          },
          "metadata": {
            "tags": []
          }
        }
      ]
    },
    {
      "cell_type": "code",
      "metadata": {
        "colab": {
          "base_uri": "https://localhost:8080/",
          "height": 545
        },
        "id": "tyXK1jCMpD1t",
        "outputId": "b3ecd402-5741-44eb-91f9-72209eaf3513"
      },
      "source": [
        "#plotting loss graph\n",
        "plt.figure()\n",
        "plt.title('Loss')\n",
        "plt.plot(cnn_history.history['loss'])\n",
        "plt.plot(cnn_history.history['val_loss'])\n",
        "plt.legend(['train', 'test'])\n",
        "plt.show()\n",
        "\n",
        "#plotting accuracy graph\n",
        "plt.figure()\n",
        "plt.title('Accuracy')\n",
        "plt.plot(cnn_history.history['accuracy'])\n",
        "plt.plot(cnn_history.history['val_accuracy'])\n",
        "plt.legend(['train', 'test'])\n",
        "plt.show()"
      ],
      "execution_count": null,
      "outputs": [
        {
          "output_type": "display_data",
          "data": {
            "image/png": "[encoded data removed]",
            "text/plain": [
              "<Figure size 432x288 with 1 Axes>"
            ]
          },
          "metadata": {
            "tags": []
          }
        },
        {
          "output_type": "display_data",
          "data": {
            "image/png": "[encoded data removed]",
            "text/plain": [
              "<Figure size 432x288 with 1 Axes>"
            ]
          },
          "metadata": {
            "tags": []
          }
        }
      ]
    }
  ]
}